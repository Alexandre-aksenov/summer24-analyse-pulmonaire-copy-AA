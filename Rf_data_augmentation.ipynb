{
  "nbformat": 4,
  "nbformat_minor": 0,
  "metadata": {
    "colab": {
      "provenance": []
    },
    "kernelspec": {
      "name": "python3",
      "display_name": "Python 3"
    },
    "language_info": {
      "name": "python"
    }
  },
  "cells": [
    {
      "cell_type": "code",
      "execution_count": 55,
      "metadata": {
        "colab": {
          "base_uri": "https://localhost:8080/"
        },
        "id": "8zO733zEprOR",
        "outputId": "eec0388e-df4a-4b52-ea77-0776ad57a516"
      },
      "outputs": [
        {
          "output_type": "stream",
          "name": "stdout",
          "text": [
            "Drive already mounted at /content/drive; to attempt to forcibly remount, call drive.mount(\"/content/drive\", force_remount=True).\n",
            "Path exists: /content/drive/My Drive/COVID-19_Radiography_Dataset/COVID/images\n",
            "Path exists: /content/drive/My Drive/COVID-19_Radiography_Dataset/Normal/images\n"
          ]
        }
      ],
      "source": [
        "# Monter Google Drive\n",
        "from google.colab import drive\n",
        "drive.mount('/content/drive')\n",
        "\n",
        "# Chemins des dossiers dans Google Drive\n",
        "covid_path = '/content/drive/My Drive/COVID-19_Radiography_Dataset/COVID/images'\n",
        "normal_path = '/content/drive/My Drive/COVID-19_Radiography_Dataset/Normal/images'\n",
        "\n",
        "\n",
        "# Vérifier que les chemins existent\n",
        "import os\n",
        "\n",
        "paths = [covid_path, normal_path]\n",
        "\n",
        "for path in paths:\n",
        "    if os.path.exists(path):\n",
        "        print(f\"Path exists: {path}\")\n",
        "    else:\n",
        "        print(f\"Path does not exist: {path}\")"
      ]
    },
    {
      "cell_type": "code",
      "source": [
        "import os\n",
        "import numpy as np\n",
        "import cv2\n",
        "from sklearn.model_selection import train_test_split, GridSearchCV\n",
        "from sklearn.preprocessing import StandardScaler, LabelEncoder\n",
        "from sklearn.decomposition import PCA\n",
        "from sklearn.ensemble import RandomForestClassifier\n",
        "from sklearn.metrics import accuracy_score, classification_report, roc_auc_score\n",
        "import matplotlib.pyplot as plt\n",
        "import joblib\n",
        "from tensorflow.keras.preprocessing.image import ImageDataGenerator\n",
        "from sklearn.pipeline import Pipeline"
      ],
      "metadata": {
        "id": "As4HNU5VqyMl"
      },
      "execution_count": 56,
      "outputs": []
    },
    {
      "cell_type": "code",
      "source": [
        "# Paramètres\n",
        "IMG_HEIGHT = 28\n",
        "IMG_WIDTH = 28\n",
        "NUM_CLASSES = 2"
      ],
      "metadata": {
        "id": "j-n9THjEriLb"
      },
      "execution_count": 57,
      "outputs": []
    },
    {
      "cell_type": "code",
      "source": [
        "# Définir les répertoires d'images\n",
        "image_dirs = [\n",
        "    r'/content/drive/My Drive/COVID-19_Radiography_Dataset/COVID/images',\n",
        "    r'/content/drive/My Drive/COVID-19_Radiography_Dataset/Normal/images',]\n",
        "\n",
        "labels = ['COVID', 'Normal']"
      ],
      "metadata": {
        "id": "uNQ8OELZro0q"
      },
      "execution_count": 58,
      "outputs": []
    },
    {
      "cell_type": "code",
      "source": [
        "# Fonction pour charger les images\n",
        "def load_images(image_dir, label, limit=None):\n",
        "    image_data = []\n",
        "    label_data = []\n",
        "    files = os.listdir(image_dir)\n",
        "    if limit:\n",
        "        files = files[:limit]\n",
        "    for file_name in files:\n",
        "        if file_name.endswith('.png'):\n",
        "            img_path = os.path.join(image_dir, file_name)\n",
        "            try:\n",
        "                img = cv2.imread(img_path)\n",
        "                img = cv2.resize(img, (IMG_HEIGHT, IMG_WIDTH))\n",
        "                img = img / 255.0\n",
        "                image_data.append(img)\n",
        "                label_data.append(label)\n",
        "            except Exception as e:\n",
        "                print(f\"Erreur de chargement de l'image {file_name} : {e}\")\n",
        "    return np.array(image_data), np.array(label_data)"
      ],
      "metadata": {
        "id": "4T4JwdNsr8pU"
      },
      "execution_count": 60,
      "outputs": []
    },
    {
      "cell_type": "code",
      "source": [
        "# Fonction pour charger les données de plusieurs répertoires\n",
        "def load_data(image_dirs, labels, limit=None):\n",
        "    all_images = []\n",
        "    all_labels = []\n",
        "    for i, image_dir in enumerate(image_dirs):\n",
        "        images, label_data = load_images(image_dir, labels[i], limit)\n",
        "        all_images.append(images)\n",
        "        all_labels.append(label_data)\n",
        "    return np.concatenate(all_images), np.concatenate(all_labels)"
      ],
      "metadata": {
        "id": "WW4rlwBdshGB"
      },
      "execution_count": 61,
      "outputs": []
    },
    {
      "cell_type": "code",
      "source": [
        "# Charger et prétraiter les données\n",
        "images, labels = load_data(image_dirs, labels, limit=2500)"
      ],
      "metadata": {
        "id": "5oCZfBIZslqi"
      },
      "execution_count": 62,
      "outputs": []
    },
    {
      "cell_type": "code",
      "source": [
        "# Aplatir les images\n",
        "X = images.reshape(images.shape[0], -1)\n",
        "y = labels"
      ],
      "metadata": {
        "id": "jy5ArCKgvUcT"
      },
      "execution_count": 63,
      "outputs": []
    },
    {
      "cell_type": "code",
      "source": [
        "# Encoder les étiquettes\n",
        "label_encoder = LabelEncoder()\n",
        "y = label_encoder.fit_transform(y)"
      ],
      "metadata": {
        "id": "dn3eqFipvYC6"
      },
      "execution_count": 64,
      "outputs": []
    },
    {
      "cell_type": "code",
      "source": [
        "# Diviser les données\n",
        "X_train, X_test, y_train, y_test = train_test_split(X, y, test_size=0.2, random_state=42)"
      ],
      "metadata": {
        "id": "u5sueybovbph"
      },
      "execution_count": 65,
      "outputs": []
    },
    {
      "cell_type": "code",
      "source": [
        "# Augmentation des données avec ImageDataGenerator\n",
        "datagen = ImageDataGenerator(\n",
        "    rotation_range=20,\n",
        "    width_shift_range=0.2,\n",
        "    height_shift_range=0.2,\n",
        "    shear_range=0.2,\n",
        "    zoom_range=0.2,\n",
        "    horizontal_flip=True,\n",
        "    fill_mode='nearest'\n",
        ")"
      ],
      "metadata": {
        "id": "PgceKRwLvfrZ"
      },
      "execution_count": 66,
      "outputs": []
    },
    {
      "cell_type": "code",
      "source": [
        "# Ajuster et transformer les données d'entraînement\n",
        "datagen.fit(X_train.reshape(-1, IMG_HEIGHT, IMG_WIDTH, 3))"
      ],
      "metadata": {
        "id": "6QLHxLk8vjzz"
      },
      "execution_count": 67,
      "outputs": []
    },
    {
      "cell_type": "code",
      "source": [
        "# Convertir les données augmentées en format adéquat pour sklearn\n",
        "train_generator = datagen.flow(X_train.reshape(-1, IMG_HEIGHT, IMG_WIDTH, 3), y_train, batch_size=32)"
      ],
      "metadata": {
        "id": "nKSlKI-tvqaf"
      },
      "execution_count": 68,
      "outputs": []
    },
    {
      "cell_type": "code",
      "source": [
        "# Mettre à l'échelle les caractéristiques et appliquer PCA dans un pipeline\n",
        "from sklearn.pipeline import Pipeline"
      ],
      "metadata": {
        "id": "cq9_6QG1v2Z7"
      },
      "execution_count": 17,
      "outputs": []
    },
    {
      "cell_type": "code",
      "source": [
        "# Mettre à l'échelle les caractéristiques et appliquer PCA dans un pipeline\n",
        "pipeline = Pipeline([\n",
        "    ('scaler', StandardScaler()),\n",
        "    ('pca', PCA(n_components=50, random_state=42)),\n",
        "    ('rf', RandomForestClassifier(random_state=42, class_weight='balanced'))\n",
        "])"
      ],
      "metadata": {
        "id": "AxS5oDFNvuSn"
      },
      "execution_count": 69,
      "outputs": []
    },
    {
      "cell_type": "code",
      "source": [
        "# Définir une grille de recherche réduite pour GridSearchCV\n",
        "param_grid = {\n",
        "    'rf__n_estimators': [100, 200],\n",
        "    'rf__max_depth': [10, 20],\n",
        "    'rf__min_samples_split': [2, 5],\n",
        "    'rf__min_samples_leaf': [1, 2],\n",
        "    'rf__bootstrap': [True, False]\n",
        "}"
      ],
      "metadata": {
        "id": "zKJpP9lJv4Aq"
      },
      "execution_count": 70,
      "outputs": []
    },
    {
      "cell_type": "code",
      "source": [
        "# Configurer GridSearchCV\n",
        "grid_search = GridSearchCV(estimator=pipeline, param_grid=param_grid,\n",
        "                           cv=3, n_jobs=-1, verbose=2, scoring='accuracy')"
      ],
      "metadata": {
        "id": "z1nWpfNgv-Mu"
      },
      "execution_count": 71,
      "outputs": []
    },
    {
      "cell_type": "code",
      "source": [
        "# Entraîner le modèle avec Grid Search et les données augmentées\n",
        "grid_search.fit(X_train, y_train)"
      ],
      "metadata": {
        "colab": {
          "base_uri": "https://localhost:8080/",
          "height": 255
        },
        "id": "xZztSAf9wCBI",
        "outputId": "d51fe727-2794-4d1a-9317-a39e2031a4e1"
      },
      "execution_count": 72,
      "outputs": [
        {
          "output_type": "stream",
          "name": "stdout",
          "text": [
            "Fitting 3 folds for each of 32 candidates, totalling 96 fits\n"
          ]
        },
        {
          "output_type": "stream",
          "name": "stderr",
          "text": [
            "/usr/local/lib/python3.10/dist-packages/joblib/externals/loky/backend/fork_exec.py:38: RuntimeWarning: os.fork() was called. os.fork() is incompatible with multithreaded code, and JAX is multithreaded, so this will likely lead to a deadlock.\n",
            "  pid = os.fork()\n"
          ]
        },
        {
          "output_type": "execute_result",
          "data": {
            "text/plain": [
              "GridSearchCV(cv=3,\n",
              "             estimator=Pipeline(steps=[('scaler', StandardScaler()),\n",
              "                                       ('pca',\n",
              "                                        PCA(n_components=50, random_state=42)),\n",
              "                                       ('rf',\n",
              "                                        RandomForestClassifier(class_weight='balanced',\n",
              "                                                               random_state=42))]),\n",
              "             n_jobs=-1,\n",
              "             param_grid={'rf__bootstrap': [True, False],\n",
              "                         'rf__max_depth': [10, 20],\n",
              "                         'rf__min_samples_leaf': [1, 2],\n",
              "                         'rf__min_samples_split': [2, 5],\n",
              "                         'rf__n_estimators': [100, 200]},\n",
              "             scoring='accuracy', verbose=2)"
            ],
            "text/html": [
              "<style>#sk-container-id-4 {color: black;background-color: white;}#sk-container-id-4 pre{padding: 0;}#sk-container-id-4 div.sk-toggleable {background-color: white;}#sk-container-id-4 label.sk-toggleable__label {cursor: pointer;display: block;width: 100%;margin-bottom: 0;padding: 0.3em;box-sizing: border-box;text-align: center;}#sk-container-id-4 label.sk-toggleable__label-arrow:before {content: \"▸\";float: left;margin-right: 0.25em;color: #696969;}#sk-container-id-4 label.sk-toggleable__label-arrow:hover:before {color: black;}#sk-container-id-4 div.sk-estimator:hover label.sk-toggleable__label-arrow:before {color: black;}#sk-container-id-4 div.sk-toggleable__content {max-height: 0;max-width: 0;overflow: hidden;text-align: left;background-color: #f0f8ff;}#sk-container-id-4 div.sk-toggleable__content pre {margin: 0.2em;color: black;border-radius: 0.25em;background-color: #f0f8ff;}#sk-container-id-4 input.sk-toggleable__control:checked~div.sk-toggleable__content {max-height: 200px;max-width: 100%;overflow: auto;}#sk-container-id-4 input.sk-toggleable__control:checked~label.sk-toggleable__label-arrow:before {content: \"▾\";}#sk-container-id-4 div.sk-estimator input.sk-toggleable__control:checked~label.sk-toggleable__label {background-color: #d4ebff;}#sk-container-id-4 div.sk-label input.sk-toggleable__control:checked~label.sk-toggleable__label {background-color: #d4ebff;}#sk-container-id-4 input.sk-hidden--visually {border: 0;clip: rect(1px 1px 1px 1px);clip: rect(1px, 1px, 1px, 1px);height: 1px;margin: -1px;overflow: hidden;padding: 0;position: absolute;width: 1px;}#sk-container-id-4 div.sk-estimator {font-family: monospace;background-color: #f0f8ff;border: 1px dotted black;border-radius: 0.25em;box-sizing: border-box;margin-bottom: 0.5em;}#sk-container-id-4 div.sk-estimator:hover {background-color: #d4ebff;}#sk-container-id-4 div.sk-parallel-item::after {content: \"\";width: 100%;border-bottom: 1px solid gray;flex-grow: 1;}#sk-container-id-4 div.sk-label:hover label.sk-toggleable__label {background-color: #d4ebff;}#sk-container-id-4 div.sk-serial::before {content: \"\";position: absolute;border-left: 1px solid gray;box-sizing: border-box;top: 0;bottom: 0;left: 50%;z-index: 0;}#sk-container-id-4 div.sk-serial {display: flex;flex-direction: column;align-items: center;background-color: white;padding-right: 0.2em;padding-left: 0.2em;position: relative;}#sk-container-id-4 div.sk-item {position: relative;z-index: 1;}#sk-container-id-4 div.sk-parallel {display: flex;align-items: stretch;justify-content: center;background-color: white;position: relative;}#sk-container-id-4 div.sk-item::before, #sk-container-id-4 div.sk-parallel-item::before {content: \"\";position: absolute;border-left: 1px solid gray;box-sizing: border-box;top: 0;bottom: 0;left: 50%;z-index: -1;}#sk-container-id-4 div.sk-parallel-item {display: flex;flex-direction: column;z-index: 1;position: relative;background-color: white;}#sk-container-id-4 div.sk-parallel-item:first-child::after {align-self: flex-end;width: 50%;}#sk-container-id-4 div.sk-parallel-item:last-child::after {align-self: flex-start;width: 50%;}#sk-container-id-4 div.sk-parallel-item:only-child::after {width: 0;}#sk-container-id-4 div.sk-dashed-wrapped {border: 1px dashed gray;margin: 0 0.4em 0.5em 0.4em;box-sizing: border-box;padding-bottom: 0.4em;background-color: white;}#sk-container-id-4 div.sk-label label {font-family: monospace;font-weight: bold;display: inline-block;line-height: 1.2em;}#sk-container-id-4 div.sk-label-container {text-align: center;}#sk-container-id-4 div.sk-container {/* jupyter's `normalize.less` sets `[hidden] { display: none; }` but bootstrap.min.css set `[hidden] { display: none !important; }` so we also need the `!important` here to be able to override the default hidden behavior on the sphinx rendered scikit-learn.org. See: https://github.com/scikit-learn/scikit-learn/issues/21755 */display: inline-block !important;position: relative;}#sk-container-id-4 div.sk-text-repr-fallback {display: none;}</style><div id=\"sk-container-id-4\" class=\"sk-top-container\"><div class=\"sk-text-repr-fallback\"><pre>GridSearchCV(cv=3,\n",
              "             estimator=Pipeline(steps=[(&#x27;scaler&#x27;, StandardScaler()),\n",
              "                                       (&#x27;pca&#x27;,\n",
              "                                        PCA(n_components=50, random_state=42)),\n",
              "                                       (&#x27;rf&#x27;,\n",
              "                                        RandomForestClassifier(class_weight=&#x27;balanced&#x27;,\n",
              "                                                               random_state=42))]),\n",
              "             n_jobs=-1,\n",
              "             param_grid={&#x27;rf__bootstrap&#x27;: [True, False],\n",
              "                         &#x27;rf__max_depth&#x27;: [10, 20],\n",
              "                         &#x27;rf__min_samples_leaf&#x27;: [1, 2],\n",
              "                         &#x27;rf__min_samples_split&#x27;: [2, 5],\n",
              "                         &#x27;rf__n_estimators&#x27;: [100, 200]},\n",
              "             scoring=&#x27;accuracy&#x27;, verbose=2)</pre><b>In a Jupyter environment, please rerun this cell to show the HTML representation or trust the notebook. <br />On GitHub, the HTML representation is unable to render, please try loading this page with nbviewer.org.</b></div><div class=\"sk-container\" hidden><div class=\"sk-item sk-dashed-wrapped\"><div class=\"sk-label-container\"><div class=\"sk-label sk-toggleable\"><input class=\"sk-toggleable__control sk-hidden--visually\" id=\"sk-estimator-id-16\" type=\"checkbox\" ><label for=\"sk-estimator-id-16\" class=\"sk-toggleable__label sk-toggleable__label-arrow\">GridSearchCV</label><div class=\"sk-toggleable__content\"><pre>GridSearchCV(cv=3,\n",
              "             estimator=Pipeline(steps=[(&#x27;scaler&#x27;, StandardScaler()),\n",
              "                                       (&#x27;pca&#x27;,\n",
              "                                        PCA(n_components=50, random_state=42)),\n",
              "                                       (&#x27;rf&#x27;,\n",
              "                                        RandomForestClassifier(class_weight=&#x27;balanced&#x27;,\n",
              "                                                               random_state=42))]),\n",
              "             n_jobs=-1,\n",
              "             param_grid={&#x27;rf__bootstrap&#x27;: [True, False],\n",
              "                         &#x27;rf__max_depth&#x27;: [10, 20],\n",
              "                         &#x27;rf__min_samples_leaf&#x27;: [1, 2],\n",
              "                         &#x27;rf__min_samples_split&#x27;: [2, 5],\n",
              "                         &#x27;rf__n_estimators&#x27;: [100, 200]},\n",
              "             scoring=&#x27;accuracy&#x27;, verbose=2)</pre></div></div></div><div class=\"sk-parallel\"><div class=\"sk-parallel-item\"><div class=\"sk-item\"><div class=\"sk-label-container\"><div class=\"sk-label sk-toggleable\"><input class=\"sk-toggleable__control sk-hidden--visually\" id=\"sk-estimator-id-17\" type=\"checkbox\" ><label for=\"sk-estimator-id-17\" class=\"sk-toggleable__label sk-toggleable__label-arrow\">estimator: Pipeline</label><div class=\"sk-toggleable__content\"><pre>Pipeline(steps=[(&#x27;scaler&#x27;, StandardScaler()),\n",
              "                (&#x27;pca&#x27;, PCA(n_components=50, random_state=42)),\n",
              "                (&#x27;rf&#x27;,\n",
              "                 RandomForestClassifier(class_weight=&#x27;balanced&#x27;,\n",
              "                                        random_state=42))])</pre></div></div></div><div class=\"sk-serial\"><div class=\"sk-item\"><div class=\"sk-serial\"><div class=\"sk-item\"><div class=\"sk-estimator sk-toggleable\"><input class=\"sk-toggleable__control sk-hidden--visually\" id=\"sk-estimator-id-18\" type=\"checkbox\" ><label for=\"sk-estimator-id-18\" class=\"sk-toggleable__label sk-toggleable__label-arrow\">StandardScaler</label><div class=\"sk-toggleable__content\"><pre>StandardScaler()</pre></div></div></div><div class=\"sk-item\"><div class=\"sk-estimator sk-toggleable\"><input class=\"sk-toggleable__control sk-hidden--visually\" id=\"sk-estimator-id-19\" type=\"checkbox\" ><label for=\"sk-estimator-id-19\" class=\"sk-toggleable__label sk-toggleable__label-arrow\">PCA</label><div class=\"sk-toggleable__content\"><pre>PCA(n_components=50, random_state=42)</pre></div></div></div><div class=\"sk-item\"><div class=\"sk-estimator sk-toggleable\"><input class=\"sk-toggleable__control sk-hidden--visually\" id=\"sk-estimator-id-20\" type=\"checkbox\" ><label for=\"sk-estimator-id-20\" class=\"sk-toggleable__label sk-toggleable__label-arrow\">RandomForestClassifier</label><div class=\"sk-toggleable__content\"><pre>RandomForestClassifier(class_weight=&#x27;balanced&#x27;, random_state=42)</pre></div></div></div></div></div></div></div></div></div></div></div></div>"
            ]
          },
          "metadata": {},
          "execution_count": 72
        }
      ]
    },
    {
      "cell_type": "code",
      "source": [
        "# Meilleurs paramètres\n",
        "print(f\"Meilleurs paramètres : {grid_search.best_params_}\")"
      ],
      "metadata": {
        "colab": {
          "base_uri": "https://localhost:8080/"
        },
        "id": "dzjh63fE7rkt",
        "outputId": "6e792481-0b5e-4a2d-a6c9-0e4b4fa6fea4"
      },
      "execution_count": 73,
      "outputs": [
        {
          "output_type": "stream",
          "name": "stdout",
          "text": [
            "Meilleurs paramètres : {'rf__bootstrap': False, 'rf__max_depth': 20, 'rf__min_samples_leaf': 2, 'rf__min_samples_split': 2, 'rf__n_estimators': 200}\n"
          ]
        }
      ]
    },
    {
      "cell_type": "code",
      "source": [
        "# Meilleur modèle\n",
        "best_pipeline = grid_search.best_estimator_"
      ],
      "metadata": {
        "id": "rn56tt8o71x9"
      },
      "execution_count": 74,
      "outputs": []
    },
    {
      "cell_type": "code",
      "source": [
        "# Enregistrer le pipeline entier\n",
        "joblib.dump(best_pipeline, 'best_pipeline.pkl')\n",
        "joblib.dump(label_encoder, 'label_encoder.pkl')\n"
      ],
      "metadata": {
        "colab": {
          "base_uri": "https://localhost:8080/"
        },
        "id": "rfIeZ0aC76wo",
        "outputId": "c7909c29-2aac-4765-c156-a37289cfd9ee"
      },
      "execution_count": 75,
      "outputs": [
        {
          "output_type": "execute_result",
          "data": {
            "text/plain": [
              "['label_encoder.pkl']"
            ]
          },
          "metadata": {},
          "execution_count": 75
        }
      ]
    },
    {
      "cell_type": "code",
      "source": [
        "# Évaluer le meilleur modèle Random Forest\n",
        "X_test_scaled = best_pipeline.named_steps['scaler'].transform(X_test)\n",
        "X_test_pca = best_pipeline.named_steps['pca'].transform(X_test_scaled)\n",
        "y_pred = best_pipeline.named_steps['rf'].predict(X_test_pca)\n",
        "y_pred = best_pipeline.named_steps['rf'].predict(X_test_pca)\n"
      ],
      "metadata": {
        "id": "xuhKdkhG8ETn"
      },
      "execution_count": 76,
      "outputs": []
    },
    {
      "cell_type": "code",
      "source": [
        "accuracy = accuracy_score(y_test, y_pred)\n",
        "class_report = classification_report(y_test, y_pred, target_names=label_encoder.classes_)\n"
      ],
      "metadata": {
        "id": "pCkDs9Upjr1K"
      },
      "execution_count": 80,
      "outputs": []
    },
    {
      "cell_type": "code",
      "source": [
        "print(f'Accuracy : {accuracy}')\n",
        "print(f'Rapport de classification :\\n{class_report}')"
      ],
      "metadata": {
        "colab": {
          "base_uri": "https://localhost:8080/"
        },
        "id": "mTMbhrTAnzpw",
        "outputId": "66b2f289-7038-4867-a54f-215d38bbbb71"
      },
      "execution_count": 81,
      "outputs": [
        {
          "output_type": "stream",
          "name": "stdout",
          "text": [
            "Accuracy : 0.865\n",
            "Rapport de classification :\n",
            "              precision    recall  f1-score   support\n",
            "\n",
            "       COVID       0.84      0.90      0.87       500\n",
            "      Normal       0.90      0.83      0.86       500\n",
            "\n",
            "    accuracy                           0.86      1000\n",
            "   macro avg       0.87      0.86      0.86      1000\n",
            "weighted avg       0.87      0.86      0.86      1000\n",
            "\n"
          ]
        }
      ]
    }
  ]
}