{
 "cells": [
  {
   "cell_type": "markdown",
   "metadata": {},
   "source": [
    "Charger les images: toutes les images COVID + autant d'images Pneumonie + Lung Opacity.\n",
    "\n",
    "Visualiser un ensemble d'images aléatoire.\n",
    "\n",
    "CNN minimal avec 1 couche de convolution et une dense.\n",
    "\n",
    "_Résult_: le score de bonnes prédictions  et les F1-scores oscillent autour de 0.77-0.8.\n",
    "\n",
    "V2. Improve the function 'load_images' (previous projects 2,3), add the option to choose\n",
    "random seed for a RandomGenerator.\n",
    "_Résult_: la sélection des images est reproductible,\n",
    "la matrice de confusion varie dans les limites d'une dizaine d'unités.\n",
    "\n",
    "3 classes. Le scode est identique à celui du SVM. On remarque cependant que la classe 1 (malade non-COVID) est relativement mieux séparée, alors que les deux autres se mélangent plus souvent.\n",
    "\n",
    "L'environnement s'appelle 'DSTest__proj_env06' sur ma machine. On trouve les versions des librairies dans la 2e cellule de code."
   ]
  },
  {
   "cell_type": "code",
   "execution_count": 1,
   "metadata": {},
   "outputs": [
    {
     "name": "stderr",
     "output_type": "stream",
     "text": [
      "2024-07-12 20:09:00.183958: I tensorflow/core/util/port.cc:110] oneDNN custom operations are on. You may see slightly different numerical results due to floating-point round-off errors from different computation orders. To turn them off, set the environment variable `TF_ENABLE_ONEDNN_OPTS=0`.\n",
      "2024-07-12 20:09:00.208817: I tensorflow/core/platform/cpu_feature_guard.cc:182] This TensorFlow binary is optimized to use available CPU instructions in performance-critical operations.\n",
      "To enable the following instructions: SSE4.1 SSE4.2 AVX AVX2 AVX_VNNI FMA, in other operations, rebuild TensorFlow with the appropriate compiler flags.\n"
     ]
    }
   ],
   "source": [
    "import numpy as np\n",
    "import matplotlib.pyplot as plt\n",
    "\n",
    "import os\n",
    "\n",
    "import cv2\n",
    "\n",
    "from sklearn.model_selection import train_test_split\n",
    "from sklearn import metrics\n",
    "\n",
    "\n",
    "from tensorflow.keras.models import Sequential\n",
    "from tensorflow.keras.layers import Conv2D, MaxPooling2D, Dropout, Flatten, Dense\n",
    "from tensorflow.keras.callbacks import Callback, ReduceLROnPlateau, EarlyStopping\n",
    "# https://www.tensorflow.org/api_docs/python/tf/keras/callbacks/Callback\n",
    "\n",
    "from tensorflow.keras.preprocessing.image import ImageDataGenerator\n",
    "from keras.utils import to_categorical\n",
    "from timeit import default_timer as timer\n",
    "\n",
    "import time\n",
    "\n",
    "image_path = '../data'"
   ]
  },
  {
   "cell_type": "code",
   "execution_count": 2,
   "metadata": {},
   "outputs": [
    {
     "name": "stdout",
     "output_type": "stream",
     "text": [
      "1.26.4\n",
      "3.8.4\n",
      "1.5.1\n",
      "4.9.0\n",
      "2.13.1\n"
     ]
    }
   ],
   "source": [
    "# Added for checking versions.\n",
    "\n",
    "import matplotlib\n",
    "import sklearn\n",
    "import tensorflow as tf\n",
    "\n",
    "print(np.__version__)  # 1.26.4\n",
    "print(matplotlib.__version__)  # 3.8.4\n",
    "print(sklearn.__version__)  # 1.5.1\n",
    "print(cv2.__version__)  # 4.9.0\n",
    "print(tf.__version__)   # 2.13.1"
   ]
  },
  {
   "cell_type": "markdown",
   "metadata": {},
   "source": [
    "Fonctions pour charger les images (adapté de: 'RF_data_augmentation.ipynb')."
   ]
  },
  {
   "cell_type": "code",
   "execution_count": 3,
   "metadata": {},
   "outputs": [],
   "source": [
    "# Hyperparamètres (réduction de l'image)\n",
    "IMG_HEIGHT = 28\n",
    "IMG_WIDTH = 28\n",
    "\n",
    "# L'architecture du CNN peut aussi être déplacée ici."
   ]
  },
  {
   "cell_type": "code",
   "execution_count": 4,
   "metadata": {},
   "outputs": [],
   "source": [
    "def list_img(image_dir: str, sought_ext='.png'):\n",
    "    \"\"\"\n",
    "    List of files with a specific extension in a folder.\n",
    "\n",
    "    Useful for extracting the number of files.\n",
    "    Can also be used as the first step of the next version of function 'load_images'.\n",
    "\n",
    "    Args:\n",
    "        image_dir (str): path to folder\n",
    "        sought_ext (str, optional): sought extension. Defaults to '.png'.\n",
    "\n",
    "    Returns:\n",
    "        list of str: the list of image files in the order of os.listdir.\n",
    "    \"\"\"\n",
    "    files = os.listdir(image_dir)\n",
    "    lst_images = [file_name for file_name in files if file_name.endswith(sought_ext)]\n",
    "    return lst_images"
   ]
  },
  {
   "cell_type": "code",
   "execution_count": 5,
   "metadata": {},
   "outputs": [],
   "source": [
    "def load_images(image_dir, label, limit=None, random_state=None):\n",
    "    \"\"\"\n",
    "    Fonction pour charger les images d'un dossier.\n",
    "    \n",
    "    Args:\n",
    "        image_dir (str): path to folder\n",
    "        label (str or int): the label to associate to the images\n",
    "        limit (int, optional): the max number of files to load.\n",
    "            Defaults to None (load all PNG images).\n",
    "\n",
    "    Constants imported from higher level: \n",
    "        IMG_HEIGHT, IMG_WIDTH\n",
    "\n",
    "    Called by the function: load_data.\n",
    "\n",
    "    Returns:\n",
    "        tensor NImages x HEIGHT x WIDTH x 1: the images resized to HEIGHT x WIDTH;\n",
    "        1d array (NImages,) : the label expanded to array.\n",
    "    \n",
    "    Possible improvements.\n",
    "    1. Speed up the function by preallocating the tensor first,\n",
    "    then writing into it.\n",
    "\n",
    "    4. Return the  filenames of the extracted images as a 3rd output.\n",
    "    \"\"\"\n",
    "    image_data = []\n",
    "    label_data = []\n",
    "    rng = np.random.default_rng(seed=random_state)\n",
    "\n",
    "    all_files = list_img(image_dir)\n",
    "    \n",
    "    if limit:\n",
    "        files = rng.choice(all_files, size=limit, replace=False)\n",
    "        \n",
    "    for file_name in files:\n",
    "        img_path = os.path.join(image_dir, file_name)\n",
    "        try:\n",
    "            # Read the grayscale image as: HEIGHT x WIDTH x 1\n",
    "            \n",
    "            img = cv2.imread(img_path, cv2.IMREAD_GRAYSCALE)\n",
    "            img = cv2.resize(img, (IMG_WIDTH, IMG_HEIGHT))\n",
    "            img = np.expand_dims(img, axis=-1)\n",
    "            \n",
    "            img = img / 255.0\n",
    "            image_data.append(img)\n",
    "            label_data.append(label)\n",
    "        except Exception as e:\n",
    "            print(f\"Erreur de chargement de l'image {file_name} : {e}\")\n",
    "    \n",
    "    return np.array(image_data), np.array(label_data)"
   ]
  },
  {
   "cell_type": "code",
   "execution_count": 6,
   "metadata": {},
   "outputs": [],
   "source": [
    "def load_data(image_dirs, labels, limits=None, random_state=None):\n",
    "    \"\"\"\n",
    "    Load data from several folders\n",
    "\n",
    "    Args:\n",
    "        image_dirs (list of 'str'): the paths to folders.\n",
    "        labels (list of 'str' of the same length): _description_\n",
    "        limits (list if int of None, optional): the number of files to load.\n",
    "            Defaults to None.\n",
    "\n",
    "    Returns:\n",
    "        tensor sum_{folders}(NImages) x HEIGHT x WIDTH :\n",
    "            the images resized to HEIGHT x WIDTH;\n",
    "        1d array (sum_{folders}(NImages),) : the labels expanded to array.\n",
    "    \"\"\"\n",
    "    all_images = []\n",
    "    all_labels = []\n",
    "    \n",
    "    limits2 = [None] * len(image_dirs) if limits is None else limits\n",
    "    \n",
    "    for i, image_dir in enumerate(image_dirs):\n",
    "        images, label_data = load_images(image_dir,\n",
    "                                        labels[i],\n",
    "                                        limits2[i],\n",
    "                                        random_state=random_state)\n",
    "        all_images.append(images)\n",
    "        all_labels.append(label_data)\n",
    "    return np.concatenate(all_images), np.concatenate(all_labels)"
   ]
  },
  {
   "cell_type": "code",
   "execution_count": 7,
   "metadata": {},
   "outputs": [],
   "source": [
    "def cond2folder(condition):\n",
    "    return os.path.join(image_path, condition, \"images\")"
   ]
  },
  {
   "cell_type": "markdown",
   "metadata": {},
   "source": [
    "Charger les images: 2500 COVID, (1250 Pneumo + 1250 Opacity), 2500 normaux choisies aléatoirement "
   ]
  },
  {
   "cell_type": "code",
   "execution_count": 8,
   "metadata": {},
   "outputs": [
    {
     "name": "stdout",
     "output_type": "stream",
     "text": [
      "['../data/COVID/images', '../data/Viral Pneumonia/images', '../data/Lung_Opacity/images', '../data/Normal/images']\n",
      "labels: [2, 1, 1, 0]\n",
      "Total number of images for each condition: [3616, 1345, 6012, 10192]\n"
     ]
    }
   ],
   "source": [
    "lst_conditions = ['COVID', 'Viral Pneumonia', 'Lung_Opacity', 'Normal']\n",
    "lst_dirs = list(map(cond2folder, lst_conditions))\n",
    "print(lst_dirs)\n",
    "\n",
    "lst_labels = [2, 1, 1, 0]\n",
    "\n",
    "print(\"labels:\", lst_labels)\n",
    "\n",
    "# determine the number of images to load\n",
    "# num_COVID_img = len(list_img(lst_dirs[0]))\n",
    "lst_nums_images = list(map(lambda path_dir: len(list_img(path_dir)), lst_dirs ))\n",
    "print(\"Total number of images for each condition:\", lst_nums_images)\n",
    "# [3616, 6012, 1345]\n"
   ]
  },
  {
   "cell_type": "code",
   "execution_count": 9,
   "metadata": {},
   "outputs": [
    {
     "name": "stdout",
     "output_type": "stream",
     "text": [
      "[2500, 1250, 1250, 2500]\n"
     ]
    }
   ],
   "source": [
    "# Number of images to extract:\n",
    "num_img_COV = 2500\n",
    "\n",
    "balanced_lst_nums_images = [num_img_COV, num_img_COV//2, num_img_COV//2, num_img_COV]\n",
    "\n",
    "print(balanced_lst_nums_images)\n",
    "# [3616 2955 661] # -> ...\n"
   ]
  },
  {
   "cell_type": "markdown",
   "metadata": {},
   "source": [
    "Extract images."
   ]
  },
  {
   "cell_type": "code",
   "execution_count": 10,
   "metadata": {},
   "outputs": [
    {
     "name": "stdout",
     "output_type": "stream",
     "text": [
      "Loading data : 7.16 sec \n",
      "\n",
      "\n",
      "<class 'numpy.ndarray'>\n",
      "(7500, 28, 28, 1)\n",
      "<class 'numpy.ndarray'>\n",
      "(7500,)\n"
     ]
    }
   ],
   "source": [
    "start = time.time()\n",
    "# data, labels = load_data(lst_dirs, lst_labels, balanced_lst_nums_images)\n",
    "data, labels = load_data(lst_dirs,\n",
    "                        lst_labels,\n",
    "                        balanced_lst_nums_images,\n",
    "                        random_state=42)\n",
    "done = time.time()\n",
    "\n",
    "elapsed = done - start\n",
    "print(f'Loading data : {elapsed:.2f} sec \\n\\n')\n",
    "# 7 sec\n",
    "\n",
    "print(type(data))  # ndarray\n",
    "print(data.shape)  # (7232, 28, 28, 1)\n",
    "\n",
    "print(type(labels))  # ndarray\n",
    "print(labels.shape)  # (7232,)"
   ]
  },
  {
   "cell_type": "markdown",
   "metadata": {},
   "source": [
    "Ancien chargement des images: toutes les images COVID + autant d'images Pneumonie + Lung Opacity, que COVID."
   ]
  },
  {
   "cell_type": "code",
   "execution_count": 11,
   "metadata": {},
   "outputs": [
    {
     "data": {
      "text/plain": [
       "'\\nlst_conditions = [\\'COVID\\', \\'Lung_Opacity\\', \\'Viral Pneumonia\\']\\nlst_dirs = list(map(cond2folder, lst_conditions))\\nprint(lst_dirs)\\n\\nlst_labels = [1, 0, 0]\\n\\nprint(\"labels:\", lst_labels)\\n\\n# determine the number of images to load\\n# num_COVID_img = len(list_img(lst_dirs[0]))\\nlst_nums_images = list(map(lambda path_dir: len(list_img(path_dir)), lst_dirs ))\\nprint(\"Total number of images for each condition:\", lst_nums_images)\\n# [3616, 6012, 1345]\\n'"
      ]
     },
     "execution_count": 11,
     "metadata": {},
     "output_type": "execute_result"
    }
   ],
   "source": [
    "\"\"\"\n",
    "lst_conditions = ['COVID', 'Lung_Opacity', 'Viral Pneumonia']\n",
    "lst_dirs = list(map(cond2folder, lst_conditions))\n",
    "print(lst_dirs)\n",
    "\n",
    "lst_labels = [1, 0, 0]\n",
    "\n",
    "print(\"labels:\", lst_labels)\n",
    "\n",
    "# determine the number of images to load\n",
    "# num_COVID_img = len(list_img(lst_dirs[0]))\n",
    "lst_nums_images = list(map(lambda path_dir: len(list_img(path_dir)), lst_dirs ))\n",
    "print(\"Total number of images for each condition:\", lst_nums_images)\n",
    "# [3616, 6012, 1345]\n",
    "\"\"\""
   ]
  },
  {
   "cell_type": "code",
   "execution_count": 12,
   "metadata": {},
   "outputs": [
    {
     "data": {
      "text/plain": [
       "'\\n# Check the function\\nprint(scale_arr_to_sum(np.arange(5), 25))\\n# [ 0  2  5  8 10]\\n\\nprint(scale_tail_to_match_head(np.arange(50, 10, -10)))\\n# [50 22 17 11]\\n'"
      ]
     },
     "execution_count": 12,
     "metadata": {},
     "output_type": "execute_result"
    }
   ],
   "source": [
    "# Number of images to extract.\n",
    "\n",
    "# def scale_arr_to_sum(arr_to_scale:np.ndarray, new_sum):\n",
    "\"\"\"\n",
    "    Scales an array to (approximately) fit the new sum.\n",
    "    The new array is rounded and converted to integers.\n",
    "    \n",
    "    Args:\n",
    "        arr_to_scale (1-dimensional np.ndarray): the original array\n",
    "        new_sum (scalar): the new sum\n",
    "    \"\"\"\n",
    "    # coeff = new_sum / arr_to_scale.sum()\n",
    "    # return (np.round(coeff * arr_to_scale)).astype(int)\n",
    "\n",
    "\n",
    "# def scale_tail_to_match_head(arr):\n",
    "\"\"\"\n",
    "    Scales the slice of 'arr' without the 1st element\n",
    "    so that its sum approximately matches the 1st element.\n",
    "    The input is converted to a numpy array.\n",
    "\n",
    "    Args:\n",
    "        arr (list or ndarray of ints): the original array\n",
    "\n",
    "    Returns:\n",
    "        ndarray of ints: the rescaled array, where the 1st element is close to half of the total sum.\n",
    "    \"\"\"\n",
    "    # res = np.array(arr)\n",
    "    #res[1:] = scale_arr_to_sum(res[1:], arr[0])\n",
    "    #return res\n",
    "\n",
    "\"\"\"\n",
    "# Check the function\n",
    "print(scale_arr_to_sum(np.arange(5), 25))\n",
    "# [ 0  2  5  8 10]\n",
    "\n",
    "print(scale_tail_to_match_head(np.arange(50, 10, -10)))\n",
    "# [50 22 17 11]\n",
    "\"\"\""
   ]
  },
  {
   "cell_type": "code",
   "execution_count": 13,
   "metadata": {},
   "outputs": [
    {
     "data": {
      "text/plain": [
       "'\\nbalanced_lst_nums_images = scale_tail_to_match_head(lst_nums_images)\\n\\nprint(balanced_lst_nums_images)\\n# [3616 2955  661]\\n'"
      ]
     },
     "execution_count": 13,
     "metadata": {},
     "output_type": "execute_result"
    }
   ],
   "source": [
    "\"\"\"\n",
    "balanced_lst_nums_images = scale_tail_to_match_head(lst_nums_images)\n",
    "\n",
    "print(balanced_lst_nums_images)\n",
    "# [3616 2955  661]\n",
    "\"\"\""
   ]
  },
  {
   "cell_type": "markdown",
   "metadata": {},
   "source": [
    "Extract images."
   ]
  },
  {
   "cell_type": "code",
   "execution_count": 14,
   "metadata": {},
   "outputs": [
    {
     "data": {
      "text/plain": [
       "\"\\nstart = time.time()\\n# data, labels = load_data(lst_dirs, lst_labels, balanced_lst_nums_images)\\ndata, labels = load_data(lst_dirs,\\n                        lst_labels,\\n                        balanced_lst_nums_images,\\n                        random_state=42)\\ndone = time.time()\\n\\nelapsed = done - start\\nprint(f'Loading data : {elapsed:.2f} sec \\n\\n')\\n# 6.6 sec\\n\\nprint(type(data))  # ndarray\\nprint(data.shape)  # (7232, 28, 28, 1)\\n\\nprint(type(labels))  # ndarray\\nprint(labels.shape)  # (7232,)\\n\""
      ]
     },
     "execution_count": 14,
     "metadata": {},
     "output_type": "execute_result"
    }
   ],
   "source": [
    "\"\"\"\n",
    "start = time.time()\n",
    "# data, labels = load_data(lst_dirs, lst_labels, balanced_lst_nums_images)\n",
    "data, labels = load_data(lst_dirs,\n",
    "                        lst_labels,\n",
    "                        balanced_lst_nums_images,\n",
    "                        random_state=42)\n",
    "done = time.time()\n",
    "\n",
    "elapsed = done - start\n",
    "print(f'Loading data : {elapsed:.2f} sec \\n\\n')\n",
    "# 6.6 sec\n",
    "\n",
    "print(type(data))  # ndarray\n",
    "print(data.shape)  # (7232, 28, 28, 1)\n",
    "\n",
    "print(type(labels))  # ndarray\n",
    "print(labels.shape)  # (7232,)\n",
    "\"\"\"\n"
   ]
  },
  {
   "cell_type": "markdown",
   "metadata": {},
   "source": [
    "Show random images."
   ]
  },
  {
   "cell_type": "code",
   "execution_count": 15,
   "metadata": {},
   "outputs": [],
   "source": [
    "def subplots_random_images(tens_img: np.ndarray, labels, n_plots: int, rng):\n",
    "    \"\"\"\n",
    "    Plot random images from the tensor 'tens_img'.\n",
    "\n",
    "    Args:\n",
    "        tens_img (3d or 4d tensor): images.\n",
    "        labels (1d array-like): the labels of images.\n",
    "        n_plots (int): the number of images to plot.\n",
    "        rng : the random number generator\n",
    "\n",
    "    Returns:\n",
    "        fig; ax; the indices of plotted images.\n",
    "    \n",
    "    Possible improvement: make the 2 last parameters optional.\n",
    "    \"\"\"\n",
    "    indices = rng.choice(tens_img.shape[0], size=n_plots, replace=False)\n",
    "\n",
    "    fig, axes = plt.subplots(1, n_plots)\n",
    "    fig.set_figheight(5)\n",
    "    fig.set_figwidth(16)\n",
    "    for n_plot in range(n_plots):\n",
    "        axes[n_plot].imshow(tens_img.take(indices[n_plot], axis=0),\n",
    "                        cmap='gray')\n",
    "        axes[n_plot].set_title(labels[indices[n_plot]])\n",
    "    return fig, axes, indices"
   ]
  },
  {
   "cell_type": "code",
   "execution_count": 16,
   "metadata": {},
   "outputs": [
    {
     "data": {
      "text/plain": [
       "(<Figure size 1600x500 with 6 Axes>,\n",
       " array([<Axes: title={'center': '0'}>, <Axes: title={'center': '1'}>,\n",
       "        <Axes: title={'center': '0'}>, <Axes: title={'center': '1'}>,\n",
       "        <Axes: title={'center': '2'}>, <Axes: title={'center': '2'}>],\n",
       "       dtype=object),\n",
       " array([5661, 3836, 7126, 3546, 1081,  261]))"
      ]
     },
     "execution_count": 16,
     "metadata": {},
     "output_type": "execute_result"
    },
    {
     "data": {
      "image/png": "[encoded data removed]",
      "text/plain": [
       "<Figure size 1600x500 with 6 Axes>"
      ]
     },
     "metadata": {},
     "output_type": "display_data"
    }
   ],
   "source": [
    "n_plots = 6\n",
    "\n",
    "# Show 'n_plots' random indices.\n",
    "rng = np.random.default_rng(1)\n",
    "\n",
    "subplots_random_images(data, labels, n_plots, rng)"
   ]
  },
  {
   "cell_type": "code",
   "execution_count": 17,
   "metadata": {},
   "outputs": [
    {
     "name": "stdout",
     "output_type": "stream",
     "text": [
      "[0 1 2]\n",
      "--------\n",
      "[2500 2500 2500]\n"
     ]
    }
   ],
   "source": [
    "# Check the distribution of labels.\n",
    "lbl_unique, lbl_counts = np.unique(labels, return_counts=True)\n",
    "\n",
    "print(lbl_unique)  # ['0 1 2]\n",
    "print('--------')\n",
    "print(lbl_counts)  # [2500 2500 2500]\n",
    "\n",
    "# As expected, the classes are balanced.\n"
   ]
  },
  {
   "cell_type": "markdown",
   "metadata": {},
   "source": [
    "# Train-Test split"
   ]
  },
  {
   "cell_type": "code",
   "execution_count": 18,
   "metadata": {},
   "outputs": [
    {
     "name": "stdout",
     "output_type": "stream",
     "text": [
      "(5250, 28, 28, 1)\n",
      "(2250, 28, 28, 1)\n"
     ]
    }
   ],
   "source": [
    "X_train, X_test, Y_train, Y_test = train_test_split(data, labels,\n",
    "                                                    test_size=0.3,\n",
    "                                                    random_state=42,\n",
    "                                                    shuffle=True,\n",
    "                                                    stratify=labels)\n",
    "\n",
    "print(X_train.shape)  # (5250, 28, 28, 1)\n",
    "print(X_test.shape)   # (5250, 28, 28, 1)"
   ]
  },
  {
   "cell_type": "markdown",
   "metadata": {},
   "source": [
    "labels -> categorical"
   ]
  },
  {
   "cell_type": "code",
   "execution_count": 19,
   "metadata": {},
   "outputs": [
    {
     "name": "stdout",
     "output_type": "stream",
     "text": [
      "(2250, 3)\n",
      "[[1. 0. 0.]\n",
      " [1. 0. 0.]\n",
      " [0. 0. 1.]]\n"
     ]
    }
   ],
   "source": [
    "# (f)\n",
    "Y_train = to_categorical(Y_train)\n",
    "Y_test = to_categorical(Y_test)\n",
    "\n",
    "print(Y_test.shape)  # should be: (5250, 3)\n",
    "print(Y_test[:3, :]) # First true values: "
   ]
  },
  {
   "cell_type": "markdown",
   "metadata": {},
   "source": [
    "# Générateur de données\n",
    "(vient du notebook 3 du module CNN)"
   ]
  },
  {
   "cell_type": "code",
   "execution_count": 20,
   "metadata": {},
   "outputs": [],
   "source": [
    "train_datagen = ImageDataGenerator(\n",
    "    shear_range = 0.2, # random application of shearing\n",
    "    zoom_range = 0.2,\n",
    "    horizontal_flip = True) # randomly flipping half of the images horizontally\n",
    "\n",
    "test_datagen = ImageDataGenerator()\n"
   ]
  },
  {
   "cell_type": "code",
   "execution_count": 21,
   "metadata": {},
   "outputs": [],
   "source": [
    "train_dataset = train_datagen.flow(X_train,Y_train,\n",
    "                        batch_size = 128)\n",
    "\"\"\"\n",
    "Fails with Grayscale images!\n",
    "See: https://stackoverflow.com/a/65182852\n",
    "\n",
    "train_dataset = train_datagen.flow(X_train,Y_train,\n",
    "                        batch_size = 128,\n",
    "                        color_mode=\"grayscale\")\n",
    "->\n",
    "TypeError: flow() got an unexpected keyword argument 'color_mode'\n",
    "\n",
    "\"\"\"\n",
    "\n",
    "test_dataset = test_datagen.flow(X_test, Y_test, batch_size = 128)"
   ]
  },
  {
   "cell_type": "markdown",
   "metadata": {},
   "source": []
  },
  {
   "cell_type": "markdown",
   "metadata": {},
   "source": [
    "#  Callbacks\n"
   ]
  },
  {
   "cell_type": "code",
   "execution_count": 22,
   "metadata": {},
   "outputs": [],
   "source": [
    "# from timeit import default_timer as timer\n",
    "\n",
    "class TimingCallback(Callback):\n",
    "    def __init__(self, logs={}):\n",
    "        self.logs=[]\n",
    "    def on_epoch_begin(self, epoch, logs={}):\n",
    "        self.starttime = timer()\n",
    "    def on_epoch_end(self, epoch, logs={}):\n",
    "        self.logs.append(timer()-self.starttime)"
   ]
  },
  {
   "cell_type": "markdown",
   "metadata": {},
   "source": [
    "Dans le cadre de notre modèle, on utilisera deux callbacks : Un Early Stop et un Learning rate reducer."
   ]
  },
  {
   "cell_type": "code",
   "execution_count": 23,
   "metadata": {},
   "outputs": [],
   "source": [
    "early_stopping = EarlyStopping(\n",
    "                                patience=5, # Attendre 5 epochs avant application\n",
    "                                min_delta = 0.01, # si au bout de 5 epochs la fonction de perte ne varie pas de 1%, \n",
    "    # que ce soit à la hausse ou à la baisse, on arrête\n",
    "                                verbose=1, # Afficher à quel epoch on s'arrête\n",
    "                                mode = 'min',\n",
    "                                monitor='val_loss')\n",
    "\n",
    "reduce_learning_rate = ReduceLROnPlateau(\n",
    "                                    monitor=\"val_loss\",\n",
    "                                    patience=3, #si val_loss stagne sur 3 epochs consécutives selon la valeur min_delta\n",
    "                                    min_delta= 0.01,\n",
    "                                    factor=0.1,  # On réduit le learning rate d'un facteur 0.1\n",
    "                                    cooldown = 4, # On attend 4 epochs avant de réitérer \n",
    "                                    verbose=1)\n",
    "\n",
    "time_callback = TimingCallback()\n",
    "\n",
    "# This defined components of a CNN, but neither built a model,\n",
    "# nor required resources from the machine."
   ]
  },
  {
   "cell_type": "markdown",
   "metadata": {},
   "source": [
    "# Construction d'un CNN Classique\n",
    "\n",
    "* Couche de Convolution comportant les paramètres suivants :\n",
    "    * filters = 32: La couche sera composée de 32 matrices de convolution.\n",
    "    * kernel_size = (3, 3) : le noyau de convolution sera de dimension 3x3.\n",
    "    * activation = 'relu'.\n",
    "    * input_shape =  (100,100,3).\n",
    "    * On ajoutera les paramètres padding = 'valid' et kernel_regularizer=regularizers.l2(0.00001).\n",
    "\n",
    "* Couche de Max Pooling avec comme paramètres :\n",
    "    * pool_size = 2\n",
    "    * strides = 2\n",
    "    * padding = 'valid'\n",
    "\n",
    "* Couche de Dropout avec le paramètre rate = 0.5\n",
    "\n",
    "* Couche d'applatissement\n",
    "\n",
    "* Couche dense à 1 neurone. \n",
    "\n",
    "    * model.add(Dense(1, activation='sigmoid'))\n"
   ]
  },
  {
   "cell_type": "code",
   "execution_count": 24,
   "metadata": {},
   "outputs": [],
   "source": [
    "# Instanciation du modèle \n",
    "model = Sequential()\n",
    "\n",
    "model.add(Conv2D(filters=8,\n",
    "                  kernel_size=(3,3),\n",
    "                  activation=\"relu\",\n",
    "                  padding=\"valid\",\n",
    "                  input_shape=(28, 28, 1))\n",
    "            )\n",
    "\n",
    "model.add(MaxPooling2D(pool_size=2, strides=2, padding='valid'))\n",
    "\n",
    "model.add(Dropout(0.5))\n",
    "\n",
    "model.add(Flatten())\n",
    "\n",
    "model.add(Dense(Y_train.shape[1], activation='softmax'))"
   ]
  },
  {
   "cell_type": "code",
   "execution_count": 25,
   "metadata": {},
   "outputs": [
    {
     "name": "stdout",
     "output_type": "stream",
     "text": [
      "Model: \"sequential\"\n",
      "_________________________________________________________________\n",
      " Layer (type)                Output Shape              Param #   \n",
      "=================================================================\n",
      " conv2d (Conv2D)             (None, 26, 26, 8)         80        \n",
      "                                                                 \n",
      " max_pooling2d (MaxPooling2  (None, 13, 13, 8)         0         \n",
      " D)                                                              \n",
      "                                                                 \n",
      " dropout (Dropout)           (None, 13, 13, 8)         0         \n",
      "                                                                 \n",
      " flatten (Flatten)           (None, 1352)              0         \n",
      "                                                                 \n",
      " dense (Dense)               (None, 3)                 4059      \n",
      "                                                                 \n",
      "=================================================================\n",
      "Total params: 4139 (16.17 KB)\n",
      "Trainable params: 4139 (16.17 KB)\n",
      "Non-trainable params: 0 (0.00 Byte)\n",
      "_________________________________________________________________\n",
      "None\n"
     ]
    }
   ],
   "source": [
    "print(model.summary())"
   ]
  },
  {
   "cell_type": "markdown",
   "metadata": {},
   "source": [
    "# Entraînement du modèle\n"
   ]
  },
  {
   "cell_type": "code",
   "execution_count": 26,
   "metadata": {},
   "outputs": [],
   "source": [
    "#Compilation du modèle\n",
    "model.compile(optimizer=\"adam\",\n",
    "                loss=\"categorical_crossentropy\",\n",
    "                metrics=['acc'])"
   ]
  },
  {
   "cell_type": "code",
   "execution_count": 27,
   "metadata": {},
   "outputs": [
    {
     "name": "stdout",
     "output_type": "stream",
     "text": [
      "Epoch 1/20\n",
      "41/41 [==============================] - 1s 23ms/step - loss: 1.0570 - acc: 0.4490 - val_loss: 0.9881 - val_acc: 0.5516 - lr: 0.0010\n",
      "Epoch 2/20\n",
      "41/41 [==============================] - 1s 28ms/step - loss: 0.9733 - acc: 0.5326 - val_loss: 0.8917 - val_acc: 0.6209 - lr: 0.0010\n",
      "Epoch 3/20\n",
      "41/41 [==============================] - 1s 25ms/step - loss: 0.9260 - acc: 0.5609 - val_loss: 0.8489 - val_acc: 0.6182 - lr: 0.0010\n",
      "Epoch 4/20\n",
      "41/41 [==============================] - 1s 25ms/step - loss: 0.8841 - acc: 0.5925 - val_loss: 0.8209 - val_acc: 0.6311 - lr: 0.0010\n",
      "Epoch 5/20\n",
      "41/41 [==============================] - 1s 24ms/step - loss: 0.8706 - acc: 0.5920 - val_loss: 0.8156 - val_acc: 0.6196 - lr: 0.0010\n",
      "Epoch 6/20\n",
      "41/41 [==============================] - 1s 23ms/step - loss: 0.8581 - acc: 0.6039 - val_loss: 0.7984 - val_acc: 0.6382 - lr: 0.0010\n",
      "Epoch 7/20\n",
      "41/41 [==============================] - 1s 24ms/step - loss: 0.8461 - acc: 0.6125 - val_loss: 0.7934 - val_acc: 0.6373 - lr: 0.0010\n",
      "Epoch 8/20\n",
      "41/41 [==============================] - 1s 24ms/step - loss: 0.8424 - acc: 0.6164 - val_loss: 0.7847 - val_acc: 0.6449 - lr: 0.0010\n",
      "Epoch 9/20\n",
      "41/41 [==============================] - 1s 26ms/step - loss: 0.8356 - acc: 0.6107 - val_loss: 0.7924 - val_acc: 0.6360 - lr: 0.0010\n",
      "Epoch 10/20\n",
      "41/41 [==============================] - 1s 25ms/step - loss: 0.8296 - acc: 0.6195 - val_loss: 0.7821 - val_acc: 0.6484 - lr: 0.0010\n",
      "Epoch 11/20\n",
      "41/41 [==============================] - ETA: 0s - loss: 0.8250 - acc: 0.6287\n",
      "Epoch 11: ReduceLROnPlateau reducing learning rate to 0.00010000000474974513.\n",
      "41/41 [==============================] - 1s 24ms/step - loss: 0.8250 - acc: 0.6287 - val_loss: 0.7770 - val_acc: 0.6524 - lr: 0.0010\n",
      "Epoch 12/20\n",
      "41/41 [==============================] - 1s 24ms/step - loss: 0.8139 - acc: 0.6341 - val_loss: 0.7735 - val_acc: 0.6538 - lr: 1.0000e-04\n",
      "Epoch 13/20\n",
      "41/41 [==============================] - 1s 25ms/step - loss: 0.8190 - acc: 0.6271 - val_loss: 0.7720 - val_acc: 0.6542 - lr: 1.0000e-04\n",
      "Epoch 14/20\n",
      "41/41 [==============================] - 1s 26ms/step - loss: 0.8184 - acc: 0.6271 - val_loss: 0.7731 - val_acc: 0.6564 - lr: 1.0000e-04\n",
      "Epoch 15/20\n",
      "41/41 [==============================] - 1s 24ms/step - loss: 0.8202 - acc: 0.6255 - val_loss: 0.7686 - val_acc: 0.6547 - lr: 1.0000e-04\n",
      "Epoch 16/20\n",
      "41/41 [==============================] - 1s 25ms/step - loss: 0.8190 - acc: 0.6242 - val_loss: 0.7704 - val_acc: 0.6556 - lr: 1.0000e-04\n",
      "Epoch 17/20\n",
      "40/41 [============================>.] - ETA: 0s - loss: 0.8215 - acc: 0.6219\n",
      "Epoch 17: ReduceLROnPlateau reducing learning rate to 1.0000000474974514e-05.\n",
      "41/41 [==============================] - 1s 24ms/step - loss: 0.8209 - acc: 0.6214 - val_loss: 0.7700 - val_acc: 0.6573 - lr: 1.0000e-04\n",
      "Epoch 17: early stopping\n",
      "Training : 18.15 sec \n",
      "\n",
      "\n"
     ]
    }
   ],
   "source": [
    "# Entrainement du modèle, utiliser le jeu de données augmenté, et préciser les callbacks.\n",
    "\n",
    "batch_size = 128\n",
    "epochs = 20\n",
    "\n",
    "start = time.time()\n",
    "model_history = model.fit(\n",
    "            train_dataset, # use augmented images for train \n",
    "            steps_per_epoch=X_train.shape[0] // batch_size,\n",
    "            validation_data = test_dataset, # use augmented images for test  \n",
    "            epochs = epochs,\n",
    "            callbacks = [\n",
    "                        reduce_learning_rate,\n",
    "                        early_stopping,\n",
    "                        time_callback\n",
    "                        ],\n",
    "            verbose=True)\n",
    "\n",
    "done = time.time()\n",
    "\n",
    "elapsed = done - start\n",
    "print(f'Training : {elapsed:.2f} sec \\n\\n')\n",
    "# 19 sec\n"
   ]
  },
  {
   "cell_type": "markdown",
   "metadata": {},
   "source": [
    "# Performances du modèle"
   ]
  },
  {
   "cell_type": "code",
   "execution_count": 28,
   "metadata": {},
   "outputs": [
    {
     "name": "stdout",
     "output_type": "stream",
     "text": [
      "<class 'list'>\n"
     ]
    }
   ],
   "source": [
    "val_acc = model_history.history['val_acc']\n",
    "\n",
    "print(type(val_acc))\n"
   ]
  },
  {
   "cell_type": "code",
   "execution_count": 29,
   "metadata": {},
   "outputs": [
    {
     "data": {
      "text/plain": [
       "Text(0, 0.5, 'Accuracy on validation set.')"
      ]
     },
     "execution_count": 29,
     "metadata": {},
     "output_type": "execute_result"
    },
    {
     "data": {
      "image/png": "[encoded data removed]",
      "text/plain": [
       "<Figure size 640x480 with 1 Axes>"
      ]
     },
     "metadata": {},
     "output_type": "display_data"
    }
   ],
   "source": [
    "# (g) Tracer l'évolution des précisions tout au long de l'entraînement.\n",
    "plt.plot(range(1, len(val_acc) + 1), val_acc)\n",
    "\n",
    "plt.xlabel(\"Epoch\")\n",
    "plt.ylabel(\"Accuracy on validation set.\")"
   ]
  },
  {
   "cell_type": "markdown",
   "metadata": {},
   "source": [
    "Prédictions sur l'ensemble test. TOADAPT to matrix of Y_test"
   ]
  },
  {
   "cell_type": "code",
   "execution_count": 30,
   "metadata": {},
   "outputs": [
    {
     "name": "stdout",
     "output_type": "stream",
     "text": [
      "71/71 [==============================] - 0s 951us/step\n",
      "Prediction : 0.19 sec \n",
      "\n",
      "\n",
      "<class 'numpy.ndarray'>\n",
      "(2250, 3)\n",
      "[[0.8304713  0.05365103 0.11587769]\n",
      " [0.3318995  0.06730037 0.6008001 ]\n",
      " [0.5384116  0.12920646 0.33238187]]\n"
     ]
    }
   ],
   "source": [
    "# (i)\n",
    "start = time.time()\n",
    "test_pred = model.predict(X_test)\n",
    "done = time.time()\n",
    "\n",
    "elapsed = done - start\n",
    "print(f'Prediction : {elapsed:.2f} sec \\n\\n')\n",
    "# 0.2 sec\n",
    "\n",
    "print(type(test_pred))  # ndarray\n",
    "print(test_pred.shape)  # (2170, 1)\n",
    "\n",
    "print(test_pred[:3, :])  # The first predictions: 1, 1, 1. \n",
    "# They are correct, although the model is only certain about the second one."
   ]
  },
  {
   "cell_type": "code",
   "execution_count": 31,
   "metadata": {},
   "outputs": [
    {
     "name": "stdout",
     "output_type": "stream",
     "text": [
      "[0 2 0 0 0 2 0 2 1 2]\n"
     ]
    }
   ],
   "source": [
    "# (k)\n",
    "def pred_mat2class(pred_matrix):\n",
    "    return pred_matrix.argmax(axis=1)\n",
    "\n",
    "\n",
    "y_test_class = pred_mat2class(Y_test)\n",
    "test_pred_class = pred_mat2class(test_pred)\n",
    "\n",
    "\n",
    "print(test_pred_class[:10])  # [7 2 1 0 4 1 4 9 6 9]\n",
    "# (la 9ème prédiction diffère de l'exercice 1 et du notebook)\n",
    "\n"
   ]
  },
  {
   "cell_type": "code",
   "execution_count": 32,
   "metadata": {},
   "outputs": [
    {
     "data": {
      "text/plain": [
       "'\\ntest_pred_class = (test_pred > 0.5).astype(int).ravel()\\n\\nprint(test_pred_class.shape)  # (2170, 1)\\n\\nprint(test_pred_class[:3])  # The first predictions: 1, 1, 1.\\n'"
      ]
     },
     "execution_count": 32,
     "metadata": {},
     "output_type": "execute_result"
    }
   ],
   "source": [
    "\"\"\"\n",
    "test_pred_class = (test_pred > 0.5).astype(int).ravel()\n",
    "\n",
    "print(test_pred_class.shape)  # (2170, 1)\n",
    "\n",
    "print(test_pred_class[:3])  # The first predictions: 1, 1, 1.\n",
    "\"\"\""
   ]
  },
  {
   "cell_type": "code",
   "execution_count": 33,
   "metadata": {},
   "outputs": [
    {
     "name": "stdout",
     "output_type": "stream",
     "text": [
      "[0 0 2 0 0 2 2 0 1 2]\n"
     ]
    }
   ],
   "source": [
    "print(y_test_class[:10])  # [1, 1, 1]"
   ]
  },
  {
   "cell_type": "code",
   "execution_count": 34,
   "metadata": {},
   "outputs": [
    {
     "name": "stdout",
     "output_type": "stream",
     "text": [
      "Accuracy on test set: 0.6573333333333333\n"
     ]
    }
   ],
   "source": [
    "# score\n",
    "print(\"Accuracy on test set:\", metrics.accuracy_score(y_test_class, test_pred_class))"
   ]
  },
  {
   "cell_type": "code",
   "execution_count": 35,
   "metadata": {},
   "outputs": [
    {
     "name": "stdout",
     "output_type": "stream",
     "text": [
      "              precision    recall  f1-score   support\n",
      "\n",
      "           0       0.60      0.71      0.65       750\n",
      "           1       0.73      0.71      0.72       750\n",
      "           2       0.65      0.55      0.60       750\n",
      "\n",
      "    accuracy                           0.66      2250\n",
      "   macro avg       0.66      0.66      0.66      2250\n",
      "weighted avg       0.66      0.66      0.66      2250\n",
      "\n"
     ]
    }
   ],
   "source": [
    "print(metrics.classification_report(y_test_class, test_pred_class))"
   ]
  },
  {
   "cell_type": "code",
   "execution_count": 36,
   "metadata": {},
   "outputs": [
    {
     "name": "stdout",
     "output_type": "stream",
     "text": [
      "[[534  98 118]\n",
      " [115 535 100]\n",
      " [243  97 410]]\n"
     ]
    }
   ],
   "source": [
    "# confusion matrix\n",
    "cm = metrics.confusion_matrix(y_test_class, test_pred_class)\n",
    "print(cm)"
   ]
  }
 ],
 "metadata": {
  "kernelspec": {
   "display_name": "DSTest_proj_env04",
   "language": "python",
   "name": "python3"
  },
  "language_info": {
   "codemirror_mode": {
    "name": "ipython",
    "version": 3
   },
   "file_extension": ".py",
   "mimetype": "text/x-python",
   "name": "python",
   "nbconvert_exporter": "python",
   "pygments_lexer": "ipython3",
   "version": "3.9.7"
  }
 },
 "nbformat": 4,
 "nbformat_minor": 2
}
