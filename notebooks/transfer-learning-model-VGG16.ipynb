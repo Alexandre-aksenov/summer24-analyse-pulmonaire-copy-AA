{
 "cells": [
  {
   "cell_type": "code",
   "execution_count": 1,
   "metadata": {},
   "outputs": [],
   "source": [
    "import os\n",
    "import pandas as pd\n",
    "import numpy as np\n",
    "import random\n",
    "import math\n",
    "import matplotlib.pyplot as plt\n",
    "import seaborn as sns\n",
    "from sklearn.model_selection import train_test_split, GridSearchCV, StratifiedKFold\n",
    "from sklearn.metrics import classification_report, confusion_matrix\n",
    "from sklearn.metrics import classification_report, f1_score, accuracy_score\n",
    "from sklearn.preprocessing import LabelEncoder\n",
    "import tensorflow as tf\n",
    "from tensorflow.keras.preprocessing.image import ImageDataGenerator\n",
    "from keras.utils import to_categorical\n",
    "from tensorflow.keras.callbacks import ModelCheckpoint\n",
    "from  tensorflow.keras.callbacks import EarlyStopping\n",
    "# from keras import backend as K\n",
    "from tensorflow.keras.applications import VGG16\n",
    "from tensorflow.keras import layers\n",
    "from tensorflow.keras.layers import Flatten, Dense, Dropout, GlobalAveragePooling2D, Conv2D,MaxPooling2D\n",
    "from tensorflow.keras.callbacks import EarlyStopping, ReduceLROnPlateau\n",
    "from tensorflow.keras.models import Sequential\n",
    "from tensorflow.keras.optimizers import Adam\n",
    "from tensorflow.keras.applications.vgg16 import preprocess_input\n"
   ]
  },
  {
   "cell_type": "code",
   "execution_count": 2,
   "metadata": {},
   "outputs": [],
   "source": [
    "# Chargement du script d'importation et formattage des images\n",
    "%run ./data-importation-and-formatting-v2.py"
   ]
  },
  {
   "cell_type": "code",
   "execution_count": 3,
   "metadata": {},
   "outputs": [],
   "source": [
    "# Chargement du script de séparation des données\n",
    "%run ./train_val_test_split.py"
   ]
  },
  {
   "cell_type": "code",
   "execution_count": 4,
   "metadata": {},
   "outputs": [],
   "source": [
    "data_folder = \"../data\"\n",
    "conditions = [\"Viral Pneumonia\", \"Lung_Opacity\", \"COVID\",  \"Normal\"]\n",
    "img_folder = \"images\"\n",
    "\n",
    "lst_dirs_condition = [os.path.join(data_folder, cond, \"images\") for cond in conditions]\n",
    "\n",
    "list_dir_images = pd.DataFrame({\"img_type\" : [\"Viral Pneumonia\", \"Lung Opacity\", \"Covid\", \"Normal\"],\n",
    "                                 \"img_dir\" : lst_dirs_condition})\n"
   ]
  },
  {
   "cell_type": "markdown",
   "metadata": {},
   "source": [
    "## Importation et préparation des données"
   ]
  },
  {
   "cell_type": "code",
   "execution_count": 5,
   "metadata": {},
   "outputs": [
    {
     "name": "stdout",
     "output_type": "stream",
     "text": [
      "IMG_SIZE =  64\n"
     ]
    }
   ],
   "source": [
    "print(\"IMG_SIZE = \", IMG_SIZE)  # Peut être changée dans le code data-importation-and-formatting-v2"
   ]
  },
  {
   "cell_type": "code",
   "execution_count": 6,
   "metadata": {},
   "outputs": [],
   "source": [
    "## Importation des images\n",
    "SAMPLE_SIZE = 2500\n",
    "sample_size_viral_pneum = np.min([1345, SAMPLE_SIZE])\n",
    "sample_size_lung_opa = SAMPLE_SIZE - sample_size_viral_pneum\n",
    "masked_img_df = load_masked_img_multiple_cond_in_df(selected_conditions=conditions, sample_sizes=[sample_size_viral_pneum, sample_size_lung_opa, SAMPLE_SIZE, SAMPLE_SIZE])\n"
   ]
  },
  {
   "cell_type": "code",
   "execution_count": 7,
   "metadata": {},
   "outputs": [],
   "source": [
    "masked_img_df.replace({'Viral Pneumonia' : 'Pulmonary infection',\n",
    "                       'Lung_Opacity' : 'Pulmonary infection'}, inplace=True)"
   ]
  },
  {
   "cell_type": "code",
   "execution_count": 8,
   "metadata": {},
   "outputs": [
    {
     "data": {
      "text/plain": [
       "Pulmonary infection    2500\n",
       "COVID                  2500\n",
       "Normal                 2500\n",
       "Name: label, dtype: int64"
      ]
     },
     "execution_count": 8,
     "metadata": {},
     "output_type": "execute_result"
    }
   ],
   "source": [
    "masked_img_df.label.value_counts()"
   ]
  },
  {
   "cell_type": "code",
   "execution_count": 9,
   "metadata": {},
   "outputs": [
    {
     "data": {
      "image/png": "[encoded data removed]",
      "text/plain": [
       "<Figure size 640x480 with 1 Axes>"
      ]
     },
     "metadata": {},
     "output_type": "display_data"
    }
   ],
   "source": [
    "ind = random.sample(range(0,masked_img_df.shape[0]),1)\n",
    "plt.imshow(np.array(masked_img_df.drop(columns='label').iloc[ind,:]).reshape(IMG_SIZE, IMG_SIZE), cmap='gray')\n",
    "plt.title(f\"Label : {masked_img_df.label[ind]}\");"
   ]
  },
  {
   "cell_type": "markdown",
   "metadata": {},
   "source": [
    "## Séparation en échantillons d'apprentissage, de validation et de test"
   ]
  },
  {
   "cell_type": "code",
   "execution_count": 10,
   "metadata": {},
   "outputs": [
    {
     "name": "stdout",
     "output_type": "stream",
     "text": [
      "['COVID' 'Normal' 'Pulmonary infection']\n"
     ]
    }
   ],
   "source": [
    "X = masked_img_df.drop(columns='label')/IMG_SIZE\n",
    "y = masked_img_df.label\n",
    "\n",
    "# Encodage de la variable cible en numérique\n",
    "labenc = LabelEncoder()\n",
    "y = labenc.fit_transform(y)\n",
    "print(labenc.classes_)\n",
    "\n",
    "# Séparation des échantillons\n",
    "X_train, X_val, X_test, y_train, y_val, y_test = train_val_test_split(X, \n",
    "                                                                      y,\n",
    "                                                                      test_val_sizes=(0.2, 0.2), random_state=42)"
   ]
  },
  {
   "cell_type": "code",
   "execution_count": 11,
   "metadata": {},
   "outputs": [],
   "source": [
    "y_train = to_categorical(y_train)\n",
    "y_test = to_categorical(y_test)\n",
    "y_val = to_categorical(y_val)"
   ]
  },
  {
   "cell_type": "code",
   "execution_count": 12,
   "metadata": {},
   "outputs": [
    {
     "name": "stdout",
     "output_type": "stream",
     "text": [
      "4800 0.64\n",
      "1200 0.16\n",
      "1500 0.2\n"
     ]
    }
   ],
   "source": [
    "print(X_train.shape[0],X_train.shape[0]/7500)\n",
    "print(X_val.shape[0], X_val.shape[0]/7500)\n",
    "print(X_test.shape[0], X_test.shape[0]/7500)\n"
   ]
  },
  {
   "cell_type": "markdown",
   "metadata": {},
   "source": [
    "## Modélisation"
   ]
  },
  {
   "cell_type": "markdown",
   "metadata": {},
   "source": [
    "### Data augmentation"
   ]
  },
  {
   "cell_type": "code",
   "execution_count": 13,
   "metadata": {},
   "outputs": [],
   "source": [
    "BATCH_SIZE = 64 \n",
    "\n",
    "\n",
    "train_datagen = ImageDataGenerator(\n",
    "    shear_range = 0.2, # random application of shearing\n",
    "    zoom_range = 0.2,\n",
    "    horizontal_flip = True) # randomly flipping half of the images horizontally\n",
    "\n",
    "val_datagen = ImageDataGenerator()\n",
    "\n",
    "## Reshaping des images pour correspondre au format couleur pour l'intégration dans VGG\n",
    "X_train_3 = np.repeat(np.array(X_train).reshape(-1, IMG_SIZE, IMG_SIZE,1),3,-1)\n",
    "X_val_3 = np.repeat(np.array(X_val).reshape(-1, IMG_SIZE, IMG_SIZE,1),3,-1)\n",
    "\n",
    "train_dataset = train_datagen.flow(X_train_3,\n",
    "                                   y_train,\n",
    "                        batch_size = BATCH_SIZE)\n",
    "\n",
    "\n",
    "val_dataset = val_datagen.flow(X_val_3, y_val, batch_size = BATCH_SIZE)"
   ]
  },
  {
   "cell_type": "markdown",
   "metadata": {},
   "source": [
    "### Construction du modèle"
   ]
  },
  {
   "cell_type": "code",
   "execution_count": 14,
   "metadata": {},
   "outputs": [],
   "source": [
    "pre_trained_model = VGG16(weights = 'imagenet', include_top=False, input_shape = (IMG_SIZE, IMG_SIZE, 3))\n",
    "for layer in pre_trained_model.layers:\n",
    "    layer.trainable = False\n",
    "for layer in pre_trained_model.layers[-4:]:\n",
    "    layer.trainable = True"
   ]
  },
  {
   "cell_type": "code",
   "execution_count": 15,
   "metadata": {},
   "outputs": [],
   "source": [
    "model = Sequential()\n",
    "\n",
    "model.add(pre_trained_model)\n",
    "model.add(GlobalAveragePooling2D())\n",
    "model.add(Flatten())\n",
    "# model.add(Dense(units = 512, activation='relu'))\n",
    "# model.add(Dropout(rate=0.3))\n",
    "# model.add(Dense(units = 256, activation='relu'))\n",
    "# model.add(Dropout(rate=0.2))\n",
    "model.add(Dense(units = 128, activation='relu'))\n",
    "model.add(Dropout(rate=0.2))\n",
    "model.add(Dense(units = 64, activation = 'relu'))\n",
    "# model.add(Dropout(rate=0.15))\n",
    "# model.add(Dense(units = 32, activation = 'relu'))\n",
    "model.add(Dense(units = 3, activation = 'softmax')) #3"
   ]
  },
  {
   "cell_type": "code",
   "execution_count": 16,
   "metadata": {},
   "outputs": [],
   "source": [
    "model.compile(optimizer='adam', loss='categorical_crossentropy', metrics=['acc']) #SparseCategoricalCrossentropy"
   ]
  },
  {
   "cell_type": "code",
   "execution_count": 17,
   "metadata": {},
   "outputs": [
    {
     "name": "stdout",
     "output_type": "stream",
     "text": [
      "Model: \"sequential\"\n",
      "_________________________________________________________________\n",
      " Layer (type)                Output Shape              Param #   \n",
      "=================================================================\n",
      " vgg16 (Functional)          (None, 2, 2, 512)         14714688  \n",
      "                                                                 \n",
      " global_average_pooling2d (G  (None, 512)              0         \n",
      " lobalAveragePooling2D)                                          \n",
      "                                                                 \n",
      " flatten (Flatten)           (None, 512)               0         \n",
      "                                                                 \n",
      " dense (Dense)               (None, 128)               65664     \n",
      "                                                                 \n",
      " dropout (Dropout)           (None, 128)               0         \n",
      "                                                                 \n",
      " dense_1 (Dense)             (None, 64)                8256      \n",
      "                                                                 \n",
      " dense_2 (Dense)             (None, 3)                 195       \n",
      "                                                                 \n",
      "=================================================================\n",
      "Total params: 14,788,803\n",
      "Trainable params: 7,153,539\n",
      "Non-trainable params: 7,635,264\n",
      "_________________________________________________________________\n",
      "None\n"
     ]
    }
   ],
   "source": [
    "print(model.summary())"
   ]
  },
  {
   "cell_type": "code",
   "execution_count": 18,
   "metadata": {},
   "outputs": [],
   "source": [
    "early_stopping = EarlyStopping(monitor = 'val_loss',\n",
    "                              min_delta = 0.01,\n",
    "                              patience = 5,\n",
    "                               mode = 'min')\n",
    "\n",
    "reduce_learning_rate = ReduceLROnPlateau(monitor='val_loss',\n",
    "                                        factor = 0.1,\n",
    "                                        patience = 3,\n",
    "                                        min_delta = 0.01,\n",
    "                                        cooldown = 4,\n",
    "                                        verbose = 1)\n",
    "\n",
    "callbacks_list = [early_stopping,reduce_learning_rate]"
   ]
  },
  {
   "cell_type": "code",
   "execution_count": 19,
   "metadata": {},
   "outputs": [
    {
     "name": "stdout",
     "output_type": "stream",
     "text": [
      "Epoch 1/10\n",
      "75/75 [==============================] - 84s 1s/step - loss: 1.0363 - acc: 0.4781 - val_loss: 0.7944 - val_acc: 0.6658 - lr: 0.0010\n",
      "Epoch 2/10\n",
      "75/75 [==============================] - 78s 1s/step - loss: 0.8192 - acc: 0.6383 - val_loss: 0.7339 - val_acc: 0.6849 - lr: 0.0010\n",
      "Epoch 3/10\n",
      "75/75 [==============================] - 78s 1s/step - loss: 0.7138 - acc: 0.6960 - val_loss: 0.6577 - val_acc: 0.7066 - lr: 0.0010\n",
      "Epoch 4/10\n",
      "75/75 [==============================] - 78s 1s/step - loss: 0.6898 - acc: 0.7040 - val_loss: 0.6854 - val_acc: 0.6962 - lr: 0.0010\n",
      "Epoch 5/10\n",
      "75/75 [==============================] - 82s 1s/step - loss: 0.6465 - acc: 0.7321 - val_loss: 0.6047 - val_acc: 0.7378 - lr: 0.0010\n",
      "Epoch 6/10\n",
      "75/75 [==============================] - 82s 1s/step - loss: 0.6254 - acc: 0.7408 - val_loss: 0.5930 - val_acc: 0.7578 - lr: 0.0010\n",
      "Epoch 7/10\n",
      "75/75 [==============================] - 79s 1s/step - loss: 0.6079 - acc: 0.7475 - val_loss: 0.5963 - val_acc: 0.7491 - lr: 0.0010\n",
      "Epoch 8/10\n",
      "75/75 [==============================] - 83s 1s/step - loss: 0.5816 - acc: 0.7640 - val_loss: 0.5282 - val_acc: 0.7839 - lr: 0.0010\n",
      "Epoch 9/10\n",
      "75/75 [==============================] - 79s 1s/step - loss: 0.5730 - acc: 0.7619 - val_loss: 0.5864 - val_acc: 0.7500 - lr: 0.0010\n",
      "Epoch 10/10\n",
      "75/75 [==============================] - 80s 1s/step - loss: 0.5507 - acc: 0.7744 - val_loss: 0.5443 - val_acc: 0.7804 - lr: 0.0010\n"
     ]
    }
   ],
   "source": [
    "model_history = model.fit(\n",
    "            train_dataset, # use augmented images for train \n",
    "            steps_per_epoch=X_train.shape[0] // BATCH_SIZE,\n",
    "            validation_data = val_dataset, # use augmented images for test  \n",
    "            validation_steps = X_val.shape[0]//BATCH_SIZE,\n",
    "            epochs = 10,\n",
    "            callbacks = callbacks_list,\n",
    "            verbose=True)"
   ]
  },
  {
   "cell_type": "code",
   "execution_count": 24,
   "metadata": {},
   "outputs": [
    {
     "data": {
      "text/plain": [
       "<matplotlib.legend.Legend at 0x17385825250>"
      ]
     },
     "execution_count": 24,
     "metadata": {},
     "output_type": "execute_result"
    },
    {
     "data": {
      "image/png": "[encoded data removed]",
      "text/plain": [
       "<Figure size 640x480 with 1 Axes>"
      ]
     },
     "metadata": {},
     "output_type": "display_data"
    }
   ],
   "source": [
    "train_acc = model_history.history['acc'] \n",
    "val_acc = model_history.history['val_acc']\n",
    "\n",
    "plt.plot(train_acc, label='train')\n",
    "plt.plot(val_acc, label='validation')\n",
    "plt.title('Model accuracy per epoch')\n",
    "plt.ylabel('Accuracy')\n",
    "plt.xlabel('Epoch')\n",
    "plt.legend(loc='right')\n"
   ]
  },
  {
   "cell_type": "code",
   "execution_count": 25,
   "metadata": {},
   "outputs": [
    {
     "name": "stdout",
     "output_type": "stream",
     "text": [
      "38/38 [==============================] - 15s 390ms/step\n"
     ]
    }
   ],
   "source": [
    "y_val_pred = model.predict(X_val_3)"
   ]
  },
  {
   "cell_type": "code",
   "execution_count": 26,
   "metadata": {},
   "outputs": [
    {
     "name": "stdout",
     "output_type": "stream",
     "text": [
      "              precision    recall  f1-score   support\n",
      "\n",
      "           0       0.69      0.80      0.74       371\n",
      "           1       0.77      0.84      0.80       391\n",
      "           2       0.92      0.72      0.81       438\n",
      "\n",
      "    accuracy                           0.78      1200\n",
      "   macro avg       0.79      0.79      0.78      1200\n",
      "weighted avg       0.80      0.78      0.79      1200\n",
      "\n"
     ]
    }
   ],
   "source": [
    "pred_class_val = y_val_pred.argmax(axis=1)\n",
    "true_class_val = y_val.argmax(axis=1)\n",
    "print(classification_report(true_class_val, pred_class_val))\n"
   ]
  }
 ],
 "metadata": {
  "kernelspec": {
   "display_name": "analyse_pulmonaire_v2",
   "language": "python",
   "name": "python3"
  },
  "language_info": {
   "codemirror_mode": {
    "name": "ipython",
    "version": 3
   },
   "file_extension": ".py",
   "mimetype": "text/x-python",
   "name": "python",
   "nbconvert_exporter": "python",
   "pygments_lexer": "ipython3",
   "version": "3.9.7"
  }
 },
 "nbformat": 4,
 "nbformat_minor": 2
}
