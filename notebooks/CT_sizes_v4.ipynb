{
 "cells": [
  {
   "cell_type": "markdown",
   "metadata": {},
   "source": [
    "Vérifier les tailles des images CT et pneumonie.\n",
    "\n",
    "_Résultat_.\n",
    "Comme prévu, les images COVID sont de même  taille: 299 x 299.\n",
    "Mais parmi celles de la pneumonie, 90% sont en noir-et-blanc, \n",
    "tandis que 10% sont \"en couleur\" (tenseurs 3d).\n",
    "\n",
    "_Conséquence_.\n",
    "Il faudra vérifier si les images \"en couleur\" ont des canaux couleur différents, et si les 3 canaux sont identiques, garder un seul.\n",
    "\n",
    "Next version:\n",
    "in 'path2DF_iter_im' : return an iterator of pairs number, image.\n",
    "in 'path2DF_sizes' :\n",
    "* store the numbers,\n",
    "* use them for the index,\n",
    "* return sorted DF (by index).  \n"
   ]
  },
  {
   "cell_type": "code",
   "execution_count": 1,
   "metadata": {},
   "outputs": [],
   "source": [
    "import os\n",
    "import matplotlib.image as mpimg\n",
    "import numpy as np\n",
    "import time\n",
    "import pandas as pd\n",
    "\n",
    "from functools import partial"
   ]
  },
  {
   "cell_type": "code",
   "execution_count": 2,
   "metadata": {},
   "outputs": [],
   "source": [
    "DIM_NAMES = ['Height', 'Width']\n",
    "DIM_NAMES3 = ['Height', 'Width', 'Color']"
   ]
  },
  {
   "cell_type": "code",
   "execution_count": 3,
   "metadata": {},
   "outputs": [],
   "source": []
  },
  {
   "cell_type": "code",
   "execution_count": null,
   "metadata": {},
   "outputs": [],
   "source": [
    "# Fonctions purement techniques\n",
    "# pour passer du chemin vers un dossier d'images\n",
    "# et d'une fonction d'extraction de descripteurs\n",
    "#\n",
    "# à une DF avec les numéros des images et descripteurs.\n",
    "\n",
    "def fname_num(fname: str):\n",
    "    \"\"\"\n",
    "    'Type'_'num'.png\n",
    "    (str)\n",
    "    ->\n",
    "    num (integer)\n",
    "    \n",
    "    Example:\n",
    "    >>> fname_num(\"Viral Pneumonia-42.png\")\n",
    "    42\n",
    "    \"\"\"\n",
    "    str_num = fname.split('.')[0].split('-')[-1]\n",
    "    return int(str_num)\n",
    "\n",
    "\n",
    "def path2DF_iter_im(path_folder):\n",
    "    \"\"\"\n",
    "    path to folder with images\n",
    "    ->\n",
    "\n",
    "    iterator of tuples:\n",
    "    image numbers, images (matrices or tensors)\n",
    "\n",
    "    in desorder.\n",
    "    \"\"\"\n",
    "    file_names = os.listdir(path=path_folder)\n",
    "    # paths_images = map(partial(os.path.join, path_folder), file_names)\n",
    "    # iter_images = map(mpimg.imread, paths_images)\n",
    "    iter_images = ((fname_num(fname), mpimg.imread(os.path.join(path_folder, fname))) for fname in file_names)\n",
    "    return iter_images\n",
    "\n",
    "\n",
    "def extract_feat_2DF(fun_feat, iter_img, feat_names):\n",
    "    \"\"\"\n",
    "    path to folder with N images\n",
    "    ->\n",
    "\n",
    "    DF (N * features) with:\n",
    "    image number as index, \n",
    "    features as data\n",
    "    \"\"\"\n",
    "\n",
    "    lst_num_shape = [(id_mat[0], fun_feat(id_mat[1])) for id_mat in iter_img]\n",
    "    # list of (index, arrays of features)\n",
    "    \n",
    "    # Conversion dict -> sorted DF\n",
    "    dict_num_shape = dict(lst_num_shape)\n",
    "    df_shapes = pd.DataFrame.from_dict(dict_num_shape, orient='index', columns=feat_names)\n",
    "    df_shapes = df_shapes.sort_index()\n",
    "    return df_shapes\n"
   ]
  },
  {
   "cell_type": "code",
   "execution_count": 4,
   "metadata": {},
   "outputs": [],
   "source": [
    "# Fonctions liées à l'extraction de données spécifiques à cet exercice:\n",
    "# la taille d'une image\n",
    "# (vecteur de longueur 3 pour pouvoir s'adapter aux images codées en noir-et-blanc ou \"avec 3 canaux de couleurs\").\n",
    "\n",
    "def arr_len3(tup):\n",
    "    \"\"\"\n",
    "    tuple of ints\n",
    "    ->\n",
    "    np.ndarray of length 3\n",
    "\n",
    "    La fin du vecteur est remplie de zéros\n",
    "    si les données sont plus courtes. \n",
    "    \"\"\"\n",
    "    res = np.zeros(3, dtype=np.int32)\n",
    "    L_data = len(tup)\n",
    "    \n",
    "    if L_data >= 3:\n",
    "        res[0:3] = tup[0:3]\n",
    "    else:\n",
    "        res[0:L_data] = tup\n",
    "    return res\n",
    "\n",
    "\n",
    "def path2DF_sizes(path_folder):\n",
    "    \"\"\"\n",
    "    The main function.\n",
    "    \n",
    "    path to folder with images\n",
    "    ->\n",
    "    DF (N * 3) with:\n",
    "    image number as index, \n",
    "    sizes as data\n",
    "\n",
    "    The column 'Color' equals zero if an image is encoded without info of Color.\n",
    "    \"\"\"\n",
    "    return extract_feat_2DF(lambda mat: arr_len3(mat.shape),\n",
    "                            path2DF_iter_im(path_folder),\n",
    "                            DIM_NAMES3)\n"
   ]
  },
  {
   "cell_type": "markdown",
   "metadata": {},
   "source": [
    "Tailles des images COVID."
   ]
  },
  {
   "cell_type": "code",
   "execution_count": 5,
   "metadata": {},
   "outputs": [],
   "source": [
    "condition_2plot_COV = \"COVID\"\n",
    "path_dir_images = os.path.join(\"../data\", condition_2plot_COV, \"images\")"
   ]
  },
  {
   "cell_type": "code",
   "execution_count": 6,
   "metadata": {},
   "outputs": [
    {
     "name": "stdout",
     "output_type": "stream",
     "text": [
      "time = 4.71 sec \n",
      "\n",
      "\n",
      "(3616, 3)\n"
     ]
    },
    {
     "data": {
      "text/html": [
       "<div>\n",
       "<style scoped>\n",
       "    .dataframe tbody tr th:only-of-type {\n",
       "        vertical-align: middle;\n",
       "    }\n",
       "\n",
       "    .dataframe tbody tr th {\n",
       "        vertical-align: top;\n",
       "    }\n",
       "\n",
       "    .dataframe thead th {\n",
       "        text-align: right;\n",
       "    }\n",
       "</style>\n",
       "<table border=\"1\" class=\"dataframe\">\n",
       "  <thead>\n",
       "    <tr style=\"text-align: right;\">\n",
       "      <th></th>\n",
       "      <th>Height</th>\n",
       "      <th>Width</th>\n",
       "      <th>Color</th>\n",
       "    </tr>\n",
       "  </thead>\n",
       "  <tbody>\n",
       "    <tr>\n",
       "      <th>1</th>\n",
       "      <td>299</td>\n",
       "      <td>299</td>\n",
       "      <td>0</td>\n",
       "    </tr>\n",
       "    <tr>\n",
       "      <th>2</th>\n",
       "      <td>299</td>\n",
       "      <td>299</td>\n",
       "      <td>0</td>\n",
       "    </tr>\n",
       "    <tr>\n",
       "      <th>3</th>\n",
       "      <td>299</td>\n",
       "      <td>299</td>\n",
       "      <td>0</td>\n",
       "    </tr>\n",
       "    <tr>\n",
       "      <th>4</th>\n",
       "      <td>299</td>\n",
       "      <td>299</td>\n",
       "      <td>0</td>\n",
       "    </tr>\n",
       "    <tr>\n",
       "      <th>5</th>\n",
       "      <td>299</td>\n",
       "      <td>299</td>\n",
       "      <td>0</td>\n",
       "    </tr>\n",
       "  </tbody>\n",
       "</table>\n",
       "</div>"
      ],
      "text/plain": [
       "   Height  Width  Color\n",
       "1     299    299      0\n",
       "2     299    299      0\n",
       "3     299    299      0\n",
       "4     299    299      0\n",
       "5     299    299      0"
      ]
     },
     "execution_count": 6,
     "metadata": {},
     "output_type": "execute_result"
    }
   ],
   "source": [
    "start = time.time()\n",
    "df_sizes_COV = path2DF_sizes(path_dir_images)\n",
    "done = time.time()\n",
    "\n",
    "elapsed = done - start\n",
    "print(f'time = {elapsed:.2f} sec \\n\\n')  # 5 sec\n",
    "\n",
    "print(df_sizes_COV.shape)  # (3616, 3)\n",
    "df_sizes_COV.head()\n"
   ]
  },
  {
   "cell_type": "code",
   "execution_count": 7,
   "metadata": {},
   "outputs": [
    {
     "name": "stdout",
     "output_type": "stream",
     "text": [
      "Height:\n",
      "299    3616\n",
      "Name: Height, dtype: int64\n",
      "------\n",
      "Width:\n",
      "299    3616\n",
      "Name: Width, dtype: int64\n",
      "------\n",
      "Color:\n",
      "0    3616\n",
      "Name: Color, dtype: int64\n"
     ]
    }
   ],
   "source": [
    "print('Height:')\n",
    "print(df_sizes_COV[DIM_NAMES3[0]].value_counts())\n",
    "# 299   3616\n",
    "print('------')\n",
    "print('Width:')\n",
    "print(df_sizes_COV[DIM_NAMES3[1]].value_counts())\n",
    "# 299   3616\n",
    "print('------')\n",
    "print('Color:')\n",
    "print(df_sizes_COV[DIM_NAMES3[2]].value_counts())\n",
    "# 0 3616\n"
   ]
  },
  {
   "cell_type": "markdown",
   "metadata": {},
   "source": [
    "Tailles des images Pneumonie."
   ]
  },
  {
   "cell_type": "code",
   "execution_count": 8,
   "metadata": {},
   "outputs": [],
   "source": [
    "condition_2plot_pneumo = \"Viral Pneumonia\"\n",
    "path_dir_images_pneumo = os.path.join(\"../data\", condition_2plot_pneumo, \"images\")"
   ]
  },
  {
   "cell_type": "code",
   "execution_count": 9,
   "metadata": {},
   "outputs": [
    {
     "name": "stdout",
     "output_type": "stream",
     "text": [
      "time = 1.98 sec \n",
      "\n",
      "\n",
      "(1345, 3)\n"
     ]
    },
    {
     "data": {
      "text/html": [
       "<div>\n",
       "<style scoped>\n",
       "    .dataframe tbody tr th:only-of-type {\n",
       "        vertical-align: middle;\n",
       "    }\n",
       "\n",
       "    .dataframe tbody tr th {\n",
       "        vertical-align: top;\n",
       "    }\n",
       "\n",
       "    .dataframe thead th {\n",
       "        text-align: right;\n",
       "    }\n",
       "</style>\n",
       "<table border=\"1\" class=\"dataframe\">\n",
       "  <thead>\n",
       "    <tr style=\"text-align: right;\">\n",
       "      <th></th>\n",
       "      <th>Height</th>\n",
       "      <th>Width</th>\n",
       "      <th>Color</th>\n",
       "    </tr>\n",
       "  </thead>\n",
       "  <tbody>\n",
       "    <tr>\n",
       "      <th>1</th>\n",
       "      <td>299</td>\n",
       "      <td>299</td>\n",
       "      <td>0</td>\n",
       "    </tr>\n",
       "    <tr>\n",
       "      <th>2</th>\n",
       "      <td>299</td>\n",
       "      <td>299</td>\n",
       "      <td>0</td>\n",
       "    </tr>\n",
       "    <tr>\n",
       "      <th>3</th>\n",
       "      <td>299</td>\n",
       "      <td>299</td>\n",
       "      <td>0</td>\n",
       "    </tr>\n",
       "    <tr>\n",
       "      <th>4</th>\n",
       "      <td>299</td>\n",
       "      <td>299</td>\n",
       "      <td>0</td>\n",
       "    </tr>\n",
       "    <tr>\n",
       "      <th>5</th>\n",
       "      <td>299</td>\n",
       "      <td>299</td>\n",
       "      <td>0</td>\n",
       "    </tr>\n",
       "  </tbody>\n",
       "</table>\n",
       "</div>"
      ],
      "text/plain": [
       "   Height  Width  Color\n",
       "1     299    299      0\n",
       "2     299    299      0\n",
       "3     299    299      0\n",
       "4     299    299      0\n",
       "5     299    299      0"
      ]
     },
     "execution_count": 9,
     "metadata": {},
     "output_type": "execute_result"
    }
   ],
   "source": [
    "start = time.time()\n",
    "df_sizes_pneumo = path2DF_sizes(path_dir_images_pneumo)\n",
    "\n",
    "done = time.time()\n",
    "\n",
    "elapsed = done - start\n",
    "print(f'time = {elapsed:.2f} sec \\n\\n') # 2 sec\n",
    "\n",
    "print(df_sizes_pneumo.shape)  # (1345, 3)\n",
    "df_sizes_pneumo.head()\n"
   ]
  },
  {
   "cell_type": "code",
   "execution_count": 10,
   "metadata": {},
   "outputs": [
    {
     "name": "stdout",
     "output_type": "stream",
     "text": [
      "Height:\n",
      "299    1345\n",
      "Name: Height, dtype: int64\n",
      "------\n",
      "Width:\n",
      "299    1345\n",
      "Name: Width, dtype: int64\n",
      "------\n",
      "Color:\n",
      "0    1205\n",
      "3     140\n",
      "Name: Color, dtype: int64\n"
     ]
    }
   ],
   "source": [
    "print('Height:')\n",
    "print(df_sizes_pneumo[DIM_NAMES3[0]].value_counts())\n",
    "# 299   1345\n",
    "print('------')\n",
    "print('Width:')\n",
    "print(df_sizes_pneumo[DIM_NAMES3[1]].value_counts())\n",
    "# 299   1345\n",
    "print('------')\n",
    "print('Color:')\n",
    "print(df_sizes_pneumo[DIM_NAMES3[2]].value_counts())\n",
    "# 0 1205\n",
    "# 3  140\n"
   ]
  }
 ],
 "metadata": {
  "kernelspec": {
   "display_name": "Python 3",
   "language": "python",
   "name": "python3"
  },
  "language_info": {
   "codemirror_mode": {
    "name": "ipython",
    "version": 3
   },
   "file_extension": ".py",
   "mimetype": "text/x-python",
   "name": "python",
   "nbconvert_exporter": "python",
   "pygments_lexer": "ipython3",
   "version": "3.9.7"
  }
 },
 "nbformat": 4,
 "nbformat_minor": 2
}
