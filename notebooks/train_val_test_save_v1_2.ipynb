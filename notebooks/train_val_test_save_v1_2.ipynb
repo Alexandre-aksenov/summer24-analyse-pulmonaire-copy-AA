{
 "cells": [
  {
   "cell_type": "markdown",
   "metadata": {},
   "source": [
    "Reproduce train-val-test split on which the model 'CNN_128x128x2_3layers_3cl' was trained, and save the results in text files. TOWRITE\n",
    "\n",
    "Save list of str in a file (TOCHECK):\n",
    "\n",
    "with fopen('train.txt', 'w') as fname:\n",
    "    print('\\n'.split(files_train), file=fname)\n",
    "\n",
    "\n",
    "After this operation:\n",
    "    copy the specified files using names in text file;\n",
    "    call the function for prediction\n"
   ]
  },
  {
   "cell_type": "code",
   "execution_count": 1,
   "metadata": {},
   "outputs": [],
   "source": [
    "import numpy as np\n",
    "import pandas as pd\n",
    "import matplotlib.pyplot as plt\n",
    "\n",
    "import os\n",
    "\n",
    "# import cv2\n",
    "\n",
    "# from sklearn.model_selection import train_test_split\n",
    "# from sklearn import metrics\n",
    "\n",
    "\n",
    "# from tensorflow.keras.models import Sequential\n",
    "# from tensorflow.keras.layers import Conv2D, MaxPooling2D, Dropout, Flatten, Dense\n",
    "# from tensorflow.keras.callbacks import Callback, ReduceLROnPlateau, EarlyStopping\n",
    "# https://www.tensorflow.org/api_docs/python/tf/keras/callbacks/Callback\n",
    "\n",
    "# from tensorflow.keras.preprocessing.image import ImageDataGenerator\n",
    "# from keras.utils import to_categorical\n",
    "# from timeit import default_timer as timer\n",
    "\n",
    "\n",
    "# imports for loading and plotting data.\n",
    "# from load_images_limit_masks_v2 import list_img, load_data_masks\n",
    "\n",
    "# from load_images_limit_masks_v3 import list_img, load_data_masks\n",
    "from load_images_limit_masks_v4 import list_img, load_data_masks\n",
    "\n",
    "# from train_val_test_split import train_val_test_split\n",
    "# most used functions in this script.\n",
    "\n",
    "from sklearn.model_selection import train_test_split\n",
    "\n",
    "import time\n",
    "from functools import partial\n",
    "\n",
    "image_path = '../data'"
   ]
  },
  {
   "cell_type": "code",
   "execution_count": 2,
   "metadata": {},
   "outputs": [],
   "source": [
    "# Hyperparamètres (réduction de l'image)\n",
    "\n",
    "IMG_HEIGHT = 128\n",
    "IMG_WIDTH = 128\n",
    "# L'architecture du CNN peut aussi être déplacée ici."
   ]
  },
  {
   "cell_type": "code",
   "execution_count": 3,
   "metadata": {},
   "outputs": [],
   "source": [
    "def cond2folder_img(condition):\n",
    "    return os.path.join(image_path, condition, \"images\")\n",
    "\n",
    "def cond2folder_masks(condition):\n",
    "    return os.path.join(image_path, condition, \"masks\")"
   ]
  },
  {
   "cell_type": "markdown",
   "metadata": {},
   "source": [
    "Charger les images: 2500 COVID, (1250 Pneumo + 1250 Opacity), 2500 normaux choisies aléatoirement "
   ]
  },
  {
   "cell_type": "code",
   "execution_count": 4,
   "metadata": {},
   "outputs": [
    {
     "name": "stdout",
     "output_type": "stream",
     "text": [
      "['../data/COVID/images', '../data/Viral Pneumonia/images', '../data/Lung_Opacity/images', '../data/Normal/images']\n",
      "['../data/COVID/masks', '../data/Viral Pneumonia/masks', '../data/Lung_Opacity/masks', '../data/Normal/masks']\n",
      "labels: [2, 1, 1, 0]\n"
     ]
    }
   ],
   "source": [
    "lst_conditions = ['COVID', 'Viral Pneumonia', 'Lung_Opacity', 'Normal']\n",
    "lst_dirs_img = list(map(cond2folder_img, lst_conditions))\n",
    "print(lst_dirs_img)\n",
    "\n",
    "# \n",
    "lst_dirs_masks = list(map(cond2folder_masks, lst_conditions))\n",
    "print(lst_dirs_masks)\n",
    "\n",
    "\n",
    "lst_labels = [2, 1, 1, 0]\n",
    "\n",
    "print(\"labels:\", lst_labels)"
   ]
  },
  {
   "cell_type": "code",
   "execution_count": 5,
   "metadata": {},
   "outputs": [
    {
     "name": "stdout",
     "output_type": "stream",
     "text": [
      "<class 'pandas.core.frame.DataFrame'>\n",
      "RangeIndex: 106 entries, 0 to 105\n",
      "Data columns (total 1 columns):\n",
      " #   Column  Non-Null Count  Dtype \n",
      "---  ------  --------------  ----- \n",
      " 0   fname   106 non-null    object\n",
      "dtypes: object(1)\n",
      "memory usage: 976.0+ bytes\n",
      "None\n"
     ]
    },
    {
     "data": {
      "text/html": [
       "<div>\n",
       "<style scoped>\n",
       "    .dataframe tbody tr th:only-of-type {\n",
       "        vertical-align: middle;\n",
       "    }\n",
       "\n",
       "    .dataframe tbody tr th {\n",
       "        vertical-align: top;\n",
       "    }\n",
       "\n",
       "    .dataframe thead th {\n",
       "        text-align: right;\n",
       "    }\n",
       "</style>\n",
       "<table border=\"1\" class=\"dataframe\">\n",
       "  <thead>\n",
       "    <tr style=\"text-align: right;\">\n",
       "      <th></th>\n",
       "      <th>fname</th>\n",
       "    </tr>\n",
       "  </thead>\n",
       "  <tbody>\n",
       "    <tr>\n",
       "      <th>0</th>\n",
       "      <td>COVID-135</td>\n",
       "    </tr>\n",
       "    <tr>\n",
       "      <th>1</th>\n",
       "      <td>COVID-509</td>\n",
       "    </tr>\n",
       "    <tr>\n",
       "      <th>2</th>\n",
       "      <td>COVID-604</td>\n",
       "    </tr>\n",
       "    <tr>\n",
       "      <th>3</th>\n",
       "      <td>COVID-653</td>\n",
       "    </tr>\n",
       "    <tr>\n",
       "      <th>4</th>\n",
       "      <td>COVID-686</td>\n",
       "    </tr>\n",
       "  </tbody>\n",
       "</table>\n",
       "</div>"
      ],
      "text/plain": [
       "       fname\n",
       "0  COVID-135\n",
       "1  COVID-509\n",
       "2  COVID-604\n",
       "3  COVID-653\n",
       "4  COVID-686"
      ]
     },
     "execution_count": 5,
     "metadata": {},
     "output_type": "execute_result"
    }
   ],
   "source": [
    "df_excluded = pd.read_csv(\"outliers_list.csv\", names=[\"fname\"])\n",
    "\n",
    "print(df_excluded.info())\n",
    "df_excluded.head()"
   ]
  },
  {
   "cell_type": "code",
   "execution_count": 6,
   "metadata": {},
   "outputs": [
    {
     "name": "stdout",
     "output_type": "stream",
     "text": [
      "Total number of images for each condition: [3513, 1344, 6012, 10190]\n"
     ]
    }
   ],
   "source": [
    "# determine the number of images to load\n",
    "\n",
    "\n",
    "lst_nums_images = list(map(lambda path_dir: len(list_img(path_dir, excluded=df_excluded)), lst_dirs_img ))\n",
    "print(\"Total number of images for each condition:\", lst_nums_images)\n",
    "# (before removing images) [3616, 1345, 6012, 10192]\n",
    "# [3513, 1344, 6012, 10190]\n"
   ]
  },
  {
   "cell_type": "code",
   "execution_count": 7,
   "metadata": {},
   "outputs": [
    {
     "name": "stdout",
     "output_type": "stream",
     "text": [
      "[2500, 1250, 1250, 2500]\n"
     ]
    }
   ],
   "source": [
    "# Number of images to extract:\n",
    "num_img_COV = 2500\n",
    "\n",
    "balanced_lst_nums_images = [num_img_COV, num_img_COV//2, num_img_COV//2, num_img_COV]\n",
    "\n",
    "print(balanced_lst_nums_images)\n",
    "# [2500, 1250, 1250, 2500]\n",
    "\n"
   ]
  },
  {
   "cell_type": "markdown",
   "metadata": {},
   "source": [
    "Extract images. Adapted to loading masks as well.\n",
    "\n",
    "Adapted to getting file names as well."
   ]
  },
  {
   "cell_type": "code",
   "execution_count": 8,
   "metadata": {},
   "outputs": [
    {
     "name": "stdout",
     "output_type": "stream",
     "text": [
      "Loading data : 10.87 sec \n",
      "\n",
      "\n",
      "<class 'numpy.ndarray'>\n",
      "(7500, 128, 128, 2)\n",
      "<class 'numpy.ndarray'>\n",
      "(7500,)\n",
      "--- files: ------\n",
      "<class 'list'>\n",
      "2\n",
      "<class 'list'>\n",
      "7500\n",
      "<class 'numpy.str_'>\n",
      "13\n",
      "COVID-733.png\n",
      "<class 'numpy.str_'>\n",
      "13\n",
      "COVID-733.png\n"
     ]
    }
   ],
   "source": [
    "start = time.time()\n",
    "# The function replaces these instructions:\n",
    "\"\"\"\n",
    "data_img, labels = load_data(lst_dirs_img,\n",
    "                        lst_labels,\n",
    "                        new_size=(IMG_WIDTH, IMG_HEIGHT),\n",
    "                        limits=balanced_lst_nums_images,\n",
    "                        random_state=42)\n",
    "\n",
    "data_masks, __ = load_data(lst_dirs_masks,\n",
    "                        lst_labels,\n",
    "                        new_size=(IMG_WIDTH, IMG_HEIGHT),\n",
    "                        limits=balanced_lst_nums_images,\n",
    "                        random_state=42)\n",
    "\n",
    "data = np.concatenate((data_img, data_masks), axis=3)\n",
    "\"\"\"\n",
    "\n",
    "\"\"\"\n",
    "# instruction for training the model,\n",
    "# throws out the file names\n",
    "data, labels, __ = load_data_masks([lst_dirs_img, lst_dirs_masks],\n",
    "                        lst_labels,\n",
    "                        new_size=(IMG_WIDTH, IMG_HEIGHT),\n",
    "                        limits=balanced_lst_nums_images,\n",
    "                        random_state=42)\n",
    "\"\"\"\n",
    "data, labels, lst_lst_files = load_data_masks([lst_dirs_img, lst_dirs_masks],\n",
    "                        lst_labels,\n",
    "                        new_size=(IMG_WIDTH, IMG_HEIGHT),\n",
    "                        excluded=df_excluded,\n",
    "                        limits=balanced_lst_nums_images,\n",
    "                        random_state=42)\n",
    "\n",
    "\n",
    "done = time.time()\n",
    "\n",
    "elapsed = done - start\n",
    "print(f'Loading data : {elapsed:.2f} sec \\n\\n')\n",
    "# 11 sec\n",
    "\n",
    "print(type(data))  # ndarray\n",
    "print(data.shape)  # (7500, 128, 128, 2)\n",
    "print(type(labels))  # ndarray\n",
    "print(labels.shape)  # (7500,)\n",
    "\n",
    "print('--- files: ------')\n",
    "print(type(lst_lst_files))  # list\n",
    "print(len(lst_lst_files))  # 2\n",
    "\n",
    "print(type(lst_lst_files[0]))  # list\n",
    "print(len(lst_lst_files[0]))  #  7500\n",
    "\n",
    "print(type(lst_lst_files[0][0]))  # np.str_\n",
    "print(len(lst_lst_files[0][0]))  # 13\n",
    "print(lst_lst_files[0][0])  # COVID-733.png\n",
    "\n",
    "print(type(lst_lst_files[1][0]))  # np.str_\n",
    "print(len(lst_lst_files[1][0]))  # 13\n",
    "print(lst_lst_files[1][0])  # COVID-733.png"
   ]
  },
  {
   "cell_type": "code",
   "execution_count": 9,
   "metadata": {},
   "outputs": [
    {
     "name": "stdout",
     "output_type": "stream",
     "text": [
      "[0 1 2]\n",
      "--------\n",
      "[2500 2500 2500]\n"
     ]
    }
   ],
   "source": [
    "# Check the distribution of labels.\n",
    "lbl_unique, lbl_counts = np.unique(labels, return_counts=True)\n",
    "\n",
    "print(lbl_unique)  # ['0 1 2]\n",
    "print('--------')\n",
    "print(lbl_counts)  # [2500 2500 2500]\n",
    "\n",
    "# As expected, the classes are balanced.\n"
   ]
  },
  {
   "cell_type": "markdown",
   "metadata": {},
   "source": [
    "# Train-val-test split\n",
    "\n",
    "Adapted to getting file names as well.\n",
    "\n",
    "I should call 'train_val_test_split' with the indices in range(0, data.shape[0])\n",
    "as 2nd argument."
   ]
  },
  {
   "cell_type": "code",
   "execution_count": 10,
   "metadata": {},
   "outputs": [
    {
     "name": "stdout",
     "output_type": "stream",
     "text": [
      "['0', '2', '4', '5']\n"
     ]
    }
   ],
   "source": [
    "def index_lst_by_lst(full_lst: list, indices: list):\n",
    "    \"\"\"\n",
    "    See: https://stackoverflow.com/a/22412533\n",
    "\n",
    "    Args:\n",
    "        full_lst (list): list with all elements \n",
    "        indices (list of int): indices\n",
    "    \"\"\"\n",
    "    return [full_lst[index] for index in indices]\n",
    "\n",
    "# example\n",
    "print(index_lst_by_lst(['0', '1', '2', '3', '4', '5', '6'], [0,2,4,5]))"
   ]
  },
  {
   "cell_type": "code",
   "execution_count": 11,
   "metadata": {},
   "outputs": [
    {
     "name": "stdout",
     "output_type": "stream",
     "text": [
      "The training indices are of type: <class 'list'>\n",
      "The 1st values are: [1535, 5761, 251, 3218, 1162]\n",
      "(5400, 128, 128, 2)\n",
      "(1350, 128, 128, 2)\n",
      "(750, 128, 128, 2)\n",
      "(5400,)\n",
      "(1350,)\n",
      "(750,)\n",
      "5400\n",
      "5400\n",
      "['COVID-2242.png', 'Normal-10021.png', 'COVID-1998.png', 'Viral Pneumonia-1303.png', 'COVID-3125.png']\n",
      "['COVID-2242.png', 'Normal-10021.png', 'COVID-1998.png', 'Viral Pneumonia-1303.png', 'COVID-3125.png']\n"
     ]
    }
   ],
   "source": [
    "\"\"\"\n",
    "# this cannot be immediately be adapted to 4 vectors\n",
    "# (data, labels, lst_lst_files[0], lst_lst_files[1])\n",
    "# for this possibility has not been provided in the function train_val_test_split .\n",
    "\n",
    "X_train, X_val, X_test, y_train, y_val, y_test = train_val_test_split(data,\n",
    "                                                                labels,\n",
    "                                                                random_state=42)\n",
    "\n",
    "# ->\n",
    "\"\"\"\n",
    "ind_train_val, ind_test, y_train_val, y_test = train_test_split(\n",
    "        range(0, data.shape[0]),\n",
    "        labels, # added\n",
    "        stratify=labels, # added\n",
    "        test_size=0.1,\n",
    "        random_state=42)\n",
    "\n",
    "ind_train, ind_val, y_train, y_val = train_test_split(\n",
    "        ind_train_val,\n",
    "        y_train_val, # added\n",
    "        stratify=y_train_val, # added\n",
    "        test_size=0.2,\n",
    "        random_state=42)\n",
    "\n",
    "print(\"The training indices are of type:\", type(ind_train))\n",
    "print(\"The 1st values are:\", ind_train[:5])  # [5649, 2514, 6263, 6082, 1170]\n",
    "\n",
    "X_train = data.take(ind_train, axis=0)\n",
    "X_val = data.take(ind_val, axis=0)\n",
    "X_test = data.take(ind_test, axis=0)\n",
    "\n",
    "# y_train = labels[ind_train]\n",
    "# y_val = labels[ind_val]\n",
    "# y_test = labels[ind_test]\n",
    "\n",
    "\"\"\"\n",
    "img_train = lst_lst_files[0][ind_train]\n",
    "img_val = lst_lst_files[0][ind_val]\n",
    "img_test = lst_lst_files[0][ind_test]\n",
    "\n",
    "masks_train = lst_lst_files[1][ind_train]\n",
    "masks_val = lst_lst_files[1][ind_val]\n",
    "masks_test = lst_lst_files[1][ind_test]\n",
    "\"\"\"\n",
    "\n",
    "lst_all_img = lst_lst_files[0]\n",
    "lst_all_masks = lst_lst_files[1]\n",
    "\n",
    "img_train, img_val, img_test = tuple(map(partial(index_lst_by_lst, lst_all_img),\n",
    "                                        [ind_train, ind_val, ind_test]))\n",
    "\n",
    "\n",
    "masks_train, masks_val, masks_test = tuple(map(partial(index_lst_by_lst, lst_all_masks),\n",
    "                                               [ind_train, ind_val, ind_test]))\n",
    "\n",
    "\n",
    "# show the split\n",
    "\n",
    "\n",
    "\n",
    "print(X_train.shape)   # (5400, 784)\n",
    "print(X_val.shape)     # (1350, 784)\n",
    "print(X_test.shape)    # (750, 784)\n",
    "\n",
    "print(y_train.shape)   # (5400,)\n",
    "print(y_val.shape)     # (1350,)\n",
    "print(y_test.shape)    # (750,)\n",
    "\n",
    "print(len(img_train))   # 5400\n",
    "print(len(masks_train)) # 5400\n",
    "print(img_train[:5])\n",
    "# ['Normal-1439.png', 'Viral Pneumonia-1249.png', 'Normal-10035.png', 'Normal-4287.png', 'COVID-1535.png']\n",
    "# (before adding stratification) ->\n",
    "# ['COVID-2242.png', 'Normal-10021.png', 'COVID-1998.png', 'Viral Pneumonia-1303.png', 'COVID-3125.png']\n",
    "\n",
    "print(masks_train[:5])"
   ]
  },
  {
   "cell_type": "markdown",
   "metadata": {},
   "source": [
    "Save the file names and classes to CSV.\n"
   ]
  },
  {
   "cell_type": "code",
   "execution_count": 12,
   "metadata": {},
   "outputs": [
    {
     "name": "stdout",
     "output_type": "stream",
     "text": [
      "COVID\n"
     ]
    }
   ],
   "source": [
    "def fname2folder(fname: str):\n",
    "    \"\"\"\n",
    "    file mame -> subfolder of the folder \"data\",\n",
    "    where the file is located.\n",
    "\n",
    "    Args:\n",
    "        fname (str): file name.\n",
    "    Returns:\n",
    "        Name of the subfolder.\n",
    "    \"\"\"\n",
    "    return fname.split('-')[0]\n",
    "\n",
    "# example\n",
    "print(fname2folder('COVID-42.png'))  # COVID"
   ]
  },
  {
   "cell_type": "code",
   "execution_count": 13,
   "metadata": {},
   "outputs": [],
   "source": [
    "def fname2img_folder(fname: str):\n",
    "    \"\"\"\n",
    "    file mame -> subfolder of the folder \"data\",\n",
    "    where the image file is located.\n",
    "\n",
    "    Args:\n",
    "        fname (str): file name.\n",
    "    Returns:\n",
    "        Name of the subfolder.\n",
    "    \"\"\"\n",
    "    return os.path.join(fname2folder(fname), \"images\")\n",
    "\n",
    "def fname2mask_folder(fname: str):\n",
    "    \"\"\"\n",
    "    file mame -> subfolder of the folder \"data\",\n",
    "    where the mask file is located.\n",
    "\n",
    "    Args:\n",
    "        fname (str): file name.\n",
    "    Returns:\n",
    "        Name of the subfolder.\n",
    "    \"\"\"\n",
    "    return os.path.join(fname2folder(fname), \"masks\")"
   ]
  },
  {
   "cell_type": "code",
   "execution_count": 14,
   "metadata": {},
   "outputs": [],
   "source": [
    "# column names. Placed to variables\n",
    "# for they are common for all 3 DataFrames. \n",
    "\n",
    "var_Img = 'Images'\n",
    "var_masks = 'Masks'\n",
    "var_num_class = 'num_class'\n",
    "var_img_folder = 'img_folder'\n",
    "var_mask_folder = 'mask_folder'"
   ]
  },
  {
   "cell_type": "code",
   "execution_count": 15,
   "metadata": {},
   "outputs": [],
   "source": [
    "def fnames_y_to_df(img_train, masks_train, y_train):\n",
    "    \"\"\"\n",
    "    Generates a DataFrame from filenames and label.\n",
    "\n",
    "    Args:\n",
    "        img_train (str):\n",
    "        masks_train (str):\n",
    "        y_train (int):\n",
    "    \"\"\"\n",
    "    df_files_train = pd.DataFrame(data={var_Img: img_train, var_masks: masks_train, var_num_class: y_train})\n",
    "    df_files_train[var_img_folder] = df_files_train[var_Img].apply(fname2img_folder)\n",
    "    df_files_train[var_mask_folder] = df_files_train[var_masks].apply(fname2mask_folder)\n",
    "    return df_files_train"
   ]
  },
  {
   "cell_type": "code",
   "execution_count": 16,
   "metadata": {},
   "outputs": [
    {
     "name": "stdout",
     "output_type": "stream",
     "text": [
      "<class 'pandas.core.frame.DataFrame'>\n",
      "RangeIndex: 5400 entries, 0 to 5399\n",
      "Data columns (total 5 columns):\n",
      " #   Column       Non-Null Count  Dtype \n",
      "---  ------       --------------  ----- \n",
      " 0   Images       5400 non-null   object\n",
      " 1   Masks        5400 non-null   object\n",
      " 2   num_class    5400 non-null   int64 \n",
      " 3   img_folder   5400 non-null   object\n",
      " 4   mask_folder  5400 non-null   object\n",
      "dtypes: int64(1), object(4)\n",
      "memory usage: 211.1+ KB\n",
      "None\n"
     ]
    },
    {
     "data": {
      "text/html": [
       "<div>\n",
       "<style scoped>\n",
       "    .dataframe tbody tr th:only-of-type {\n",
       "        vertical-align: middle;\n",
       "    }\n",
       "\n",
       "    .dataframe tbody tr th {\n",
       "        vertical-align: top;\n",
       "    }\n",
       "\n",
       "    .dataframe thead th {\n",
       "        text-align: right;\n",
       "    }\n",
       "</style>\n",
       "<table border=\"1\" class=\"dataframe\">\n",
       "  <thead>\n",
       "    <tr style=\"text-align: right;\">\n",
       "      <th></th>\n",
       "      <th>Images</th>\n",
       "      <th>Masks</th>\n",
       "      <th>num_class</th>\n",
       "      <th>img_folder</th>\n",
       "      <th>mask_folder</th>\n",
       "    </tr>\n",
       "  </thead>\n",
       "  <tbody>\n",
       "    <tr>\n",
       "      <th>0</th>\n",
       "      <td>COVID-2242.png</td>\n",
       "      <td>COVID-2242.png</td>\n",
       "      <td>2</td>\n",
       "      <td>COVID/images</td>\n",
       "      <td>COVID/masks</td>\n",
       "    </tr>\n",
       "    <tr>\n",
       "      <th>1</th>\n",
       "      <td>Normal-10021.png</td>\n",
       "      <td>Normal-10021.png</td>\n",
       "      <td>0</td>\n",
       "      <td>Normal/images</td>\n",
       "      <td>Normal/masks</td>\n",
       "    </tr>\n",
       "    <tr>\n",
       "      <th>2</th>\n",
       "      <td>COVID-1998.png</td>\n",
       "      <td>COVID-1998.png</td>\n",
       "      <td>2</td>\n",
       "      <td>COVID/images</td>\n",
       "      <td>COVID/masks</td>\n",
       "    </tr>\n",
       "    <tr>\n",
       "      <th>3</th>\n",
       "      <td>Viral Pneumonia-1303.png</td>\n",
       "      <td>Viral Pneumonia-1303.png</td>\n",
       "      <td>1</td>\n",
       "      <td>Viral Pneumonia/images</td>\n",
       "      <td>Viral Pneumonia/masks</td>\n",
       "    </tr>\n",
       "    <tr>\n",
       "      <th>4</th>\n",
       "      <td>COVID-3125.png</td>\n",
       "      <td>COVID-3125.png</td>\n",
       "      <td>2</td>\n",
       "      <td>COVID/images</td>\n",
       "      <td>COVID/masks</td>\n",
       "    </tr>\n",
       "  </tbody>\n",
       "</table>\n",
       "</div>"
      ],
      "text/plain": [
       "                     Images                     Masks  num_class  \\\n",
       "0            COVID-2242.png            COVID-2242.png          2   \n",
       "1          Normal-10021.png          Normal-10021.png          0   \n",
       "2            COVID-1998.png            COVID-1998.png          2   \n",
       "3  Viral Pneumonia-1303.png  Viral Pneumonia-1303.png          1   \n",
       "4            COVID-3125.png            COVID-3125.png          2   \n",
       "\n",
       "               img_folder            mask_folder  \n",
       "0            COVID/images            COVID/masks  \n",
       "1           Normal/images           Normal/masks  \n",
       "2            COVID/images            COVID/masks  \n",
       "3  Viral Pneumonia/images  Viral Pneumonia/masks  \n",
       "4            COVID/images            COVID/masks  "
      ]
     },
     "execution_count": 16,
     "metadata": {},
     "output_type": "execute_result"
    }
   ],
   "source": [
    "df_files_train = fnames_y_to_df(img_train, masks_train, y_train)\n",
    "\n",
    "\n",
    "print(df_files_train.info())  # (5400, 5)\n",
    "df_files_train.head()"
   ]
  },
  {
   "cell_type": "code",
   "execution_count": 17,
   "metadata": {},
   "outputs": [],
   "source": [
    "# df_files_train.to_csv('../src/models/datasets1_2/img_train.csv')"
   ]
  },
  {
   "cell_type": "code",
   "execution_count": 18,
   "metadata": {},
   "outputs": [
    {
     "data": {
      "text/plain": [
       "0              COVID-2242\n",
       "1            Normal-10021\n",
       "2              COVID-1998\n",
       "3    Viral Pneumonia-1303\n",
       "4              COVID-3125\n",
       "Name: Images, dtype: object"
      ]
     },
     "execution_count": 18,
     "metadata": {},
     "output_type": "execute_result"
    }
   ],
   "source": [
    "# Check the images have been excluded indeed.\n",
    "ser_fnames_train = df_files_train[var_Img].apply(lambda full_fname: full_fname[:-4])\n",
    "\n",
    "ser_fnames_train.head()"
   ]
  },
  {
   "cell_type": "code",
   "execution_count": 19,
   "metadata": {},
   "outputs": [
    {
     "name": "stdout",
     "output_type": "stream",
     "text": [
      "0\n"
     ]
    }
   ],
   "source": [
    "ser_should_be_excluded_fnames = ser_fnames_train.isin(df_excluded)\n",
    "print(sum(ser_should_be_excluded_fnames))  # 0, OK"
   ]
  },
  {
   "cell_type": "code",
   "execution_count": 39,
   "metadata": {},
   "outputs": [
    {
     "name": "stdout",
     "output_type": "stream",
     "text": [
      "<class 'pandas.core.frame.DataFrame'>\n",
      "RangeIndex: 1350 entries, 0 to 1349\n",
      "Data columns (total 5 columns):\n",
      " #   Column       Non-Null Count  Dtype \n",
      "---  ------       --------------  ----- \n",
      " 0   Images       1350 non-null   object\n",
      " 1   Masks        1350 non-null   object\n",
      " 2   num_class    1350 non-null   int64 \n",
      " 3   img_folder   1350 non-null   object\n",
      " 4   mask_folder  1350 non-null   object\n",
      "dtypes: int64(1), object(4)\n",
      "memory usage: 52.9+ KB\n",
      "None\n"
     ]
    },
    {
     "data": {
      "text/html": [
       "<div>\n",
       "<style scoped>\n",
       "    .dataframe tbody tr th:only-of-type {\n",
       "        vertical-align: middle;\n",
       "    }\n",
       "\n",
       "    .dataframe tbody tr th {\n",
       "        vertical-align: top;\n",
       "    }\n",
       "\n",
       "    .dataframe thead th {\n",
       "        text-align: right;\n",
       "    }\n",
       "</style>\n",
       "<table border=\"1\" class=\"dataframe\">\n",
       "  <thead>\n",
       "    <tr style=\"text-align: right;\">\n",
       "      <th></th>\n",
       "      <th>Images</th>\n",
       "      <th>Masks</th>\n",
       "      <th>num_class</th>\n",
       "      <th>img_folder</th>\n",
       "      <th>mask_folder</th>\n",
       "    </tr>\n",
       "  </thead>\n",
       "  <tbody>\n",
       "    <tr>\n",
       "      <th>0</th>\n",
       "      <td>COVID-1842.png</td>\n",
       "      <td>COVID-1842.png</td>\n",
       "      <td>2</td>\n",
       "      <td>COVID/images</td>\n",
       "      <td>COVID/masks</td>\n",
       "    </tr>\n",
       "    <tr>\n",
       "      <th>1</th>\n",
       "      <td>COVID-3413.png</td>\n",
       "      <td>COVID-3413.png</td>\n",
       "      <td>2</td>\n",
       "      <td>COVID/images</td>\n",
       "      <td>COVID/masks</td>\n",
       "    </tr>\n",
       "    <tr>\n",
       "      <th>2</th>\n",
       "      <td>Viral Pneumonia-77.png</td>\n",
       "      <td>Viral Pneumonia-77.png</td>\n",
       "      <td>1</td>\n",
       "      <td>Viral Pneumonia/images</td>\n",
       "      <td>Viral Pneumonia/masks</td>\n",
       "    </tr>\n",
       "    <tr>\n",
       "      <th>3</th>\n",
       "      <td>Lung_Opacity-5556.png</td>\n",
       "      <td>Lung_Opacity-5556.png</td>\n",
       "      <td>1</td>\n",
       "      <td>Lung_Opacity/images</td>\n",
       "      <td>Lung_Opacity/masks</td>\n",
       "    </tr>\n",
       "    <tr>\n",
       "      <th>4</th>\n",
       "      <td>COVID-2980.png</td>\n",
       "      <td>COVID-2980.png</td>\n",
       "      <td>2</td>\n",
       "      <td>COVID/images</td>\n",
       "      <td>COVID/masks</td>\n",
       "    </tr>\n",
       "  </tbody>\n",
       "</table>\n",
       "</div>"
      ],
      "text/plain": [
       "                   Images                   Masks  num_class  \\\n",
       "0          COVID-1842.png          COVID-1842.png          2   \n",
       "1          COVID-3413.png          COVID-3413.png          2   \n",
       "2  Viral Pneumonia-77.png  Viral Pneumonia-77.png          1   \n",
       "3   Lung_Opacity-5556.png   Lung_Opacity-5556.png          1   \n",
       "4          COVID-2980.png          COVID-2980.png          2   \n",
       "\n",
       "               img_folder            mask_folder  \n",
       "0            COVID/images            COVID/masks  \n",
       "1            COVID/images            COVID/masks  \n",
       "2  Viral Pneumonia/images  Viral Pneumonia/masks  \n",
       "3     Lung_Opacity/images     Lung_Opacity/masks  \n",
       "4            COVID/images            COVID/masks  "
      ]
     },
     "execution_count": 39,
     "metadata": {},
     "output_type": "execute_result"
    }
   ],
   "source": [
    "df_files_val = fnames_y_to_df(img_val, masks_val, y_val)\n",
    "\n",
    "\n",
    "print(df_files_val.info())  # (5400, 5)\n",
    "df_files_val.head()"
   ]
  },
  {
   "cell_type": "code",
   "execution_count": 40,
   "metadata": {},
   "outputs": [],
   "source": [
    "# df_files_val.to_csv('../src/models/datasets1_2/img_val.csv')"
   ]
  },
  {
   "cell_type": "code",
   "execution_count": 41,
   "metadata": {},
   "outputs": [
    {
     "name": "stdout",
     "output_type": "stream",
     "text": [
      "<class 'pandas.core.frame.DataFrame'>\n",
      "RangeIndex: 750 entries, 0 to 749\n",
      "Data columns (total 5 columns):\n",
      " #   Column       Non-Null Count  Dtype \n",
      "---  ------       --------------  ----- \n",
      " 0   Images       750 non-null    object\n",
      " 1   Masks        750 non-null    object\n",
      " 2   num_class    750 non-null    int64 \n",
      " 3   img_folder   750 non-null    object\n",
      " 4   mask_folder  750 non-null    object\n",
      "dtypes: int64(1), object(4)\n",
      "memory usage: 29.4+ KB\n",
      "None\n"
     ]
    },
    {
     "data": {
      "text/html": [
       "<div>\n",
       "<style scoped>\n",
       "    .dataframe tbody tr th:only-of-type {\n",
       "        vertical-align: middle;\n",
       "    }\n",
       "\n",
       "    .dataframe tbody tr th {\n",
       "        vertical-align: top;\n",
       "    }\n",
       "\n",
       "    .dataframe thead th {\n",
       "        text-align: right;\n",
       "    }\n",
       "</style>\n",
       "<table border=\"1\" class=\"dataframe\">\n",
       "  <thead>\n",
       "    <tr style=\"text-align: right;\">\n",
       "      <th></th>\n",
       "      <th>Images</th>\n",
       "      <th>Masks</th>\n",
       "      <th>num_class</th>\n",
       "      <th>img_folder</th>\n",
       "      <th>mask_folder</th>\n",
       "    </tr>\n",
       "  </thead>\n",
       "  <tbody>\n",
       "    <tr>\n",
       "      <th>0</th>\n",
       "      <td>Normal-5305.png</td>\n",
       "      <td>Normal-5305.png</td>\n",
       "      <td>0</td>\n",
       "      <td>Normal/images</td>\n",
       "      <td>Normal/masks</td>\n",
       "    </tr>\n",
       "    <tr>\n",
       "      <th>1</th>\n",
       "      <td>Viral Pneumonia-748.png</td>\n",
       "      <td>Viral Pneumonia-748.png</td>\n",
       "      <td>1</td>\n",
       "      <td>Viral Pneumonia/images</td>\n",
       "      <td>Viral Pneumonia/masks</td>\n",
       "    </tr>\n",
       "    <tr>\n",
       "      <th>2</th>\n",
       "      <td>Normal-3718.png</td>\n",
       "      <td>Normal-3718.png</td>\n",
       "      <td>0</td>\n",
       "      <td>Normal/images</td>\n",
       "      <td>Normal/masks</td>\n",
       "    </tr>\n",
       "    <tr>\n",
       "      <th>3</th>\n",
       "      <td>Lung_Opacity-4849.png</td>\n",
       "      <td>Lung_Opacity-4849.png</td>\n",
       "      <td>1</td>\n",
       "      <td>Lung_Opacity/images</td>\n",
       "      <td>Lung_Opacity/masks</td>\n",
       "    </tr>\n",
       "    <tr>\n",
       "      <th>4</th>\n",
       "      <td>Normal-789.png</td>\n",
       "      <td>Normal-789.png</td>\n",
       "      <td>0</td>\n",
       "      <td>Normal/images</td>\n",
       "      <td>Normal/masks</td>\n",
       "    </tr>\n",
       "  </tbody>\n",
       "</table>\n",
       "</div>"
      ],
      "text/plain": [
       "                    Images                    Masks  num_class  \\\n",
       "0          Normal-5305.png          Normal-5305.png          0   \n",
       "1  Viral Pneumonia-748.png  Viral Pneumonia-748.png          1   \n",
       "2          Normal-3718.png          Normal-3718.png          0   \n",
       "3    Lung_Opacity-4849.png    Lung_Opacity-4849.png          1   \n",
       "4           Normal-789.png           Normal-789.png          0   \n",
       "\n",
       "               img_folder            mask_folder  \n",
       "0           Normal/images           Normal/masks  \n",
       "1  Viral Pneumonia/images  Viral Pneumonia/masks  \n",
       "2           Normal/images           Normal/masks  \n",
       "3     Lung_Opacity/images     Lung_Opacity/masks  \n",
       "4           Normal/images           Normal/masks  "
      ]
     },
     "execution_count": 41,
     "metadata": {},
     "output_type": "execute_result"
    }
   ],
   "source": [
    "df_files_test = fnames_y_to_df(img_test, masks_test, y_test)\n",
    "\n",
    "\n",
    "print(df_files_test.info())  # (5400, 5)\n",
    "df_files_test.head()"
   ]
  },
  {
   "cell_type": "code",
   "execution_count": 42,
   "metadata": {},
   "outputs": [],
   "source": [
    "# df_files_test.to_csv('../src/models/datasets1_2/img_test.csv')"
   ]
  }
 ],
 "metadata": {
  "kernelspec": {
   "display_name": "DSTest_proj_env06",
   "language": "python",
   "name": "python3"
  },
  "language_info": {
   "codemirror_mode": {
    "name": "ipython",
    "version": 3
   },
   "file_extension": ".py",
   "mimetype": "text/x-python",
   "name": "python",
   "nbconvert_exporter": "python",
   "pygments_lexer": "ipython3",
   "version": "3.9.7"
  }
 },
 "nbformat": 4,
 "nbformat_minor": 2
}
