{
 "cells": [
  {
   "cell_type": "markdown",
   "metadata": {},
   "source": [
    "Charger les images: toutes les images COVID + autant d'images Pneumonie + Lung Opacity.\n",
    "\n",
    "Visualiser un ensemble d'images aléatoire.\n",
    "\n",
    "CNN minimal avec 1 couche de convolution et une dense.\n",
    "\n",
    "_Résult_: le score de bonnes prédictions  et les F1-scores oscillent autour de 0.77-0.8.\n",
    "\n",
    "V2. Improve the function 'load_images' (previous projects 2,3), add the option to choose\n",
    "random seed for a RandomGenerator.\n",
    "_Résult_: la sélection des images est reproductible,\n",
    "la matrice de confusion varie dans les limites d'une dizaine d'unités.\n",
    "\n",
    "CNN_28x28_1layer_3classes_v2 : images chargées en noir-et-blanc et réduites à la taille 28x28. CNN avec une couche de convolution. 3 classes. _Résultat_: Score résultant : entre 0.65 et 0.66. On remarque un grand nombre de faux négatifs (rappel = 0.54). Ce modèle a un score (taux de bonnes prédictions et F1) combarable au SVM, mais sa matrice de confision est assez différente. Ceci suggère qu'une amélioration est possible.\n",
    "\n",
    "CNN_28x28_1layer_3classes_v3 : augmenter le nb de filtres: 8 -> 16. _Résultat_: score = 0.69 avec une matrice de confusion comparable.\n",
    "\n",
    "\n",
    "L'environnement s'appelle 'DSTest__proj_env06' sur ma machine. On trouve les versions des librairies dans la 2e cellule de code."
   ]
  },
  {
   "cell_type": "code",
   "execution_count": 1,
   "metadata": {},
   "outputs": [
    {
     "name": "stderr",
     "output_type": "stream",
     "text": [
      "2024-07-16 11:39:34.266050: I tensorflow/core/util/port.cc:110] oneDNN custom operations are on. You may see slightly different numerical results due to floating-point round-off errors from different computation orders. To turn them off, set the environment variable `TF_ENABLE_ONEDNN_OPTS=0`.\n",
      "2024-07-16 11:39:34.420777: I tensorflow/core/platform/cpu_feature_guard.cc:182] This TensorFlow binary is optimized to use available CPU instructions in performance-critical operations.\n",
      "To enable the following instructions: SSE4.1 SSE4.2 AVX AVX2 AVX_VNNI FMA, in other operations, rebuild TensorFlow with the appropriate compiler flags.\n"
     ]
    }
   ],
   "source": [
    "import numpy as np\n",
    "import pandas as pd\n",
    "import matplotlib.pyplot as plt\n",
    "\n",
    "import os\n",
    "\n",
    "import cv2\n",
    "\n",
    "# from sklearn.model_selection import train_test_split\n",
    "from sklearn import metrics\n",
    "\n",
    "\n",
    "from tensorflow.keras.models import Sequential\n",
    "from tensorflow.keras.layers import Conv2D, MaxPooling2D, Dropout, Flatten, Dense\n",
    "from tensorflow.keras.callbacks import Callback, ReduceLROnPlateau, EarlyStopping\n",
    "# https://www.tensorflow.org/api_docs/python/tf/keras/callbacks/Callback\n",
    "\n",
    "from tensorflow.keras.preprocessing.image import ImageDataGenerator\n",
    "from keras.utils import to_categorical\n",
    "from timeit import default_timer as timer\n",
    "\n",
    "\n",
    "# imports for loading and plotting data.\n",
    "from load_images_limit_TOCHECK import list_img, load_data\n",
    "from train_val_test_split import train_val_test_split\n",
    "\n",
    "\n",
    "import time\n",
    "\n",
    "image_path = '../data'"
   ]
  },
  {
   "cell_type": "code",
   "execution_count": 2,
   "metadata": {},
   "outputs": [
    {
     "name": "stdout",
     "output_type": "stream",
     "text": [
      "1.26.4\n",
      "3.8.4\n",
      "1.5.1\n",
      "4.9.0\n",
      "2.13.1\n"
     ]
    }
   ],
   "source": [
    "# Added for checking versions.\n",
    "\n",
    "import matplotlib\n",
    "import sklearn\n",
    "import tensorflow as tf\n",
    "\n",
    "print(np.__version__)  # 1.26.4\n",
    "print(matplotlib.__version__)  # 3.8.4\n",
    "print(sklearn.__version__)  # 1.5.1\n",
    "print(cv2.__version__)  # 4.9.0\n",
    "print(tf.__version__)   # 2.13.1"
   ]
  },
  {
   "cell_type": "markdown",
   "metadata": {},
   "source": [
    "Fonctions pour charger les images (adapté de: 'RF_data_augmentation.ipynb')."
   ]
  },
  {
   "cell_type": "code",
   "execution_count": 3,
   "metadata": {},
   "outputs": [],
   "source": [
    "# Hyperparamètres (réduction de l'image)\n",
    "IMG_HEIGHT = 28\n",
    "IMG_WIDTH = 28\n",
    "\n",
    "# L'architecture du CNN peut aussi être déplacée ici."
   ]
  },
  {
   "cell_type": "code",
   "execution_count": 4,
   "metadata": {},
   "outputs": [],
   "source": [
    "def cond2folder(condition):\n",
    "    return os.path.join(image_path, condition, \"images\")"
   ]
  },
  {
   "cell_type": "markdown",
   "metadata": {},
   "source": [
    "Charger les images: 2500 COVID, (1250 Pneumo + 1250 Opacity), 2500 normaux choisies aléatoirement "
   ]
  },
  {
   "cell_type": "code",
   "execution_count": 5,
   "metadata": {},
   "outputs": [
    {
     "name": "stdout",
     "output_type": "stream",
     "text": [
      "['../data/COVID/images', '../data/Viral Pneumonia/images', '../data/Lung_Opacity/images', '../data/Normal/images']\n",
      "labels: [2, 1, 1, 0]\n",
      "Total number of images for each condition: [3616, 1345, 6012, 10192]\n"
     ]
    }
   ],
   "source": [
    "lst_conditions = ['COVID', 'Viral Pneumonia', 'Lung_Opacity', 'Normal']\n",
    "lst_dirs = list(map(cond2folder, lst_conditions))\n",
    "print(lst_dirs)\n",
    "\n",
    "lst_labels = [2, 1, 1, 0]\n",
    "\n",
    "print(\"labels:\", lst_labels)\n",
    "\n",
    "# determine the number of images to load\n",
    "# num_COVID_img = len(list_img(lst_dirs[0]))\n",
    "lst_nums_images = list(map(lambda path_dir: len(list_img(path_dir)), lst_dirs ))\n",
    "print(\"Total number of images for each condition:\", lst_nums_images)\n",
    "# [3616, 6012, 1345]\n"
   ]
  },
  {
   "cell_type": "code",
   "execution_count": 6,
   "metadata": {},
   "outputs": [
    {
     "name": "stdout",
     "output_type": "stream",
     "text": [
      "[2500, 1250, 1250, 2500]\n"
     ]
    }
   ],
   "source": [
    "# Number of images to extract:\n",
    "num_img_COV = 2500\n",
    "\n",
    "balanced_lst_nums_images = [num_img_COV, num_img_COV//2, num_img_COV//2, num_img_COV]\n",
    "\n",
    "print(balanced_lst_nums_images)\n",
    "# [2500, 1250, 1250, 2500]\n",
    "\n"
   ]
  },
  {
   "cell_type": "markdown",
   "metadata": {},
   "source": [
    "Extract images."
   ]
  },
  {
   "cell_type": "code",
   "execution_count": 7,
   "metadata": {},
   "outputs": [
    {
     "name": "stdout",
     "output_type": "stream",
     "text": [
      "Loading data : 8.46 sec \n",
      "\n",
      "\n",
      "<class 'numpy.ndarray'>\n",
      "(7500, 28, 28, 1)\n",
      "<class 'numpy.ndarray'>\n",
      "(7500,)\n"
     ]
    }
   ],
   "source": [
    "start = time.time()\n",
    "# data, labels = load_data(lst_dirs, lst_labels, balanced_lst_nums_images)\n",
    "data, labels = load_data(lst_dirs,\n",
    "                        lst_labels,\n",
    "                        new_size=(IMG_WIDTH, IMG_HEIGHT),\n",
    "                        limits=balanced_lst_nums_images,\n",
    "                        random_state=42)\n",
    "done = time.time()\n",
    "\n",
    "elapsed = done - start\n",
    "print(f'Loading data : {elapsed:.2f} sec \\n\\n')\n",
    "# 7 sec\n",
    "\n",
    "print(type(data))  # ndarray\n",
    "print(data.shape)  # (7232, 28, 28, 1)\n",
    "\n",
    "print(type(labels))  # ndarray\n",
    "print(labels.shape)  # (7232,)"
   ]
  },
  {
   "cell_type": "markdown",
   "metadata": {},
   "source": [
    "Show random images."
   ]
  },
  {
   "cell_type": "code",
   "execution_count": 8,
   "metadata": {},
   "outputs": [],
   "source": [
    "def subplots_random_images(tens_img: np.ndarray, labels, n_plots: int, rng):\n",
    "    \"\"\"\n",
    "    Plot random images from the tensor 'tens_img'.\n",
    "\n",
    "    Args:\n",
    "        tens_img (3d or 4d tensor): images.\n",
    "        labels (1d array-like): the labels of images.\n",
    "        n_plots (int): the number of images to plot.\n",
    "        rng : the random number generator\n",
    "\n",
    "    Returns:\n",
    "        fig; ax; the indices of plotted images.\n",
    "    \n",
    "    Possible improvement: make the 2 last parameters optional.\n",
    "    \"\"\"\n",
    "    indices = rng.choice(tens_img.shape[0], size=n_plots, replace=False)\n",
    "\n",
    "    fig, axes = plt.subplots(1, n_plots)\n",
    "    fig.set_figheight(5)\n",
    "    fig.set_figwidth(16)\n",
    "    for n_plot in range(n_plots):\n",
    "        axes[n_plot].imshow(tens_img.take(indices[n_plot], axis=0),\n",
    "                        cmap='gray')\n",
    "        axes[n_plot].set_title(labels[indices[n_plot]])\n",
    "    return fig, axes, indices"
   ]
  },
  {
   "cell_type": "code",
   "execution_count": 9,
   "metadata": {},
   "outputs": [
    {
     "data": {
      "text/plain": [
       "(<Figure size 1600x500 with 10 Axes>,\n",
       " array([<Axes: title={'center': '2'}>, <Axes: title={'center': '1'}>,\n",
       "        <Axes: title={'center': '0'}>, <Axes: title={'center': '2'}>,\n",
       "        <Axes: title={'center': '0'}>, <Axes: title={'center': '1'}>,\n",
       "        <Axes: title={'center': '2'}>, <Axes: title={'center': '0'}>,\n",
       "        <Axes: title={'center': '0'}>, <Axes: title={'center': '2'}>],\n",
       "       dtype=object),\n",
       " array([2338, 3544, 6169,  261, 7112, 3834, 1080, 5658, 7122, 1868]))"
      ]
     },
     "execution_count": 9,
     "metadata": {},
     "output_type": "execute_result"
    },
    {
     "data": {
      "image/png": "[encoded data removed]",
      "text/plain": [
       "<Figure size 1600x500 with 10 Axes>"
      ]
     },
     "metadata": {},
     "output_type": "display_data"
    }
   ],
   "source": [
    "n_plots = 10\n",
    "\n",
    "# Show 'n_plots' random indices.\n",
    "rng = np.random.default_rng(1)\n",
    "\n",
    "subplots_random_images(data, labels, n_plots, rng)"
   ]
  },
  {
   "cell_type": "code",
   "execution_count": 10,
   "metadata": {},
   "outputs": [
    {
     "name": "stdout",
     "output_type": "stream",
     "text": [
      "[0 1 2]\n",
      "--------\n",
      "[2500 2500 2500]\n"
     ]
    }
   ],
   "source": [
    "# Check the distribution of labels.\n",
    "lbl_unique, lbl_counts = np.unique(labels, return_counts=True)\n",
    "\n",
    "print(lbl_unique)  # ['0 1 2]\n",
    "print('--------')\n",
    "print(lbl_counts)  # [2500 2500 2500]\n",
    "\n",
    "# As expected, the classes are balanced.\n"
   ]
  },
  {
   "cell_type": "markdown",
   "metadata": {},
   "source": [
    "# Train-val-test split"
   ]
  },
  {
   "cell_type": "code",
   "execution_count": 11,
   "metadata": {},
   "outputs": [
    {
     "data": {
      "text/plain": [
       "'\\nX_train, X_test, Y_train, Y_test = train_test_split(data, labels,\\n                                                    test_size=0.3,\\n                                                    random_state=42,\\n                                                    shuffle=True,\\n                                                    stratify=labels)\\n\\nprint(X_train.shape)  # (5250, 28, 28, 1)\\nprint(X_test.shape)   # (5250, 28, 28, 1)\\n'"
      ]
     },
     "execution_count": 11,
     "metadata": {},
     "output_type": "execute_result"
    }
   ],
   "source": [
    "\"\"\"\n",
    "X_train, X_test, Y_train, Y_test = train_test_split(data, labels,\n",
    "                                                    test_size=0.3,\n",
    "                                                    random_state=42,\n",
    "                                                    shuffle=True,\n",
    "                                                    stratify=labels)\n",
    "\n",
    "print(X_train.shape)  # (5250, 28, 28, 1)\n",
    "print(X_test.shape)   # (5250, 28, 28, 1)\n",
    "\"\"\""
   ]
  },
  {
   "cell_type": "code",
   "execution_count": 12,
   "metadata": {},
   "outputs": [
    {
     "name": "stdout",
     "output_type": "stream",
     "text": [
      "(5400, 28, 28, 1)\n",
      "(1350, 28, 28, 1)\n",
      "(750, 28, 28, 1)\n",
      "(5400,)\n",
      "(1350,)\n",
      "(750,)\n"
     ]
    }
   ],
   "source": [
    "\n",
    "X_train, X_val, X_test, y_train, y_val, y_test = train_val_test_split(data,\n",
    "                                                                labels,\n",
    "                                                                random_state=42)\n",
    "\n",
    "# (the equivalent instructions would be:)\n",
    "\"\"\"\n",
    "random_state=42\n",
    "\n",
    "X_train_val, X_test, y_train_val, y_test = train_test_split(\n",
    "        data,\n",
    "        target,\n",
    "        test_size=0.1,\n",
    "        random_state=random_state)\n",
    "\n",
    "X_train, X_val, y_train, y_val = train_test_split(\n",
    "        X_train_val,\n",
    "        y_train_val,\n",
    "        test_size=0.2,\n",
    "        random_state=random_state)\n",
    "\"\"\"\n",
    "print(X_train.shape)   # (5400, 784)\n",
    "print(X_val.shape)     # (1350, 784)\n",
    "print(X_test.shape)    # (750, 784)\n",
    "\n",
    "print(y_train.shape)   # (5400,)\n",
    "print(y_val.shape)     # (1350,)\n",
    "print(y_test.shape)    # (750,)"
   ]
  },
  {
   "cell_type": "markdown",
   "metadata": {},
   "source": [
    "labels -> categorical"
   ]
  },
  {
   "cell_type": "code",
   "execution_count": 13,
   "metadata": {},
   "outputs": [
    {
     "name": "stdout",
     "output_type": "stream",
     "text": [
      "(1350, 3)\n",
      "[[1. 0. 0.]\n",
      " [0. 1. 0.]\n",
      " [0. 1. 0.]]\n"
     ]
    }
   ],
   "source": [
    "# (f)\n",
    "Y_train = to_categorical(y_train)\n",
    "Y_val = to_categorical(y_val)\n",
    "\n",
    "print(Y_val.shape)  # should be: (5250, 3)\n",
    "print(Y_val[:3, :]) # First true values: "
   ]
  },
  {
   "cell_type": "markdown",
   "metadata": {},
   "source": [
    "# Générateur de données\n",
    "(vient du notebook 3 du module CNN)"
   ]
  },
  {
   "cell_type": "code",
   "execution_count": 14,
   "metadata": {},
   "outputs": [],
   "source": [
    "train_datagen = ImageDataGenerator(\n",
    "    shear_range = 0.2, # random application of shearing\n",
    "    zoom_range = 0.2,\n",
    "    horizontal_flip = True) # randomly flipping half of the images horizontally\n",
    "\n",
    "test_datagen = ImageDataGenerator()\n"
   ]
  },
  {
   "cell_type": "code",
   "execution_count": 15,
   "metadata": {},
   "outputs": [],
   "source": [
    "train_dataset = train_datagen.flow(X_train,Y_train,\n",
    "                        batch_size = 128)\n",
    "\"\"\"\n",
    "Fails with Grayscale images!\n",
    "See: https://stackoverflow.com/a/65182852\n",
    "\n",
    "train_dataset = train_datagen.flow(X_train,Y_train,\n",
    "                        batch_size = 128,\n",
    "                        color_mode=\"grayscale\")\n",
    "->\n",
    "TypeError: flow() got an unexpected keyword argument 'color_mode'\n",
    "\n",
    "\"\"\"\n",
    "\n",
    "val_dataset = test_datagen.flow(X_val, Y_val, batch_size = 128)"
   ]
  },
  {
   "cell_type": "markdown",
   "metadata": {},
   "source": []
  },
  {
   "cell_type": "markdown",
   "metadata": {},
   "source": [
    "#  Callbacks\n"
   ]
  },
  {
   "cell_type": "code",
   "execution_count": 16,
   "metadata": {},
   "outputs": [],
   "source": [
    "# from timeit import default_timer as timer\n",
    "\n",
    "class TimingCallback(Callback):\n",
    "    def __init__(self, logs={}):\n",
    "        self.logs=[]\n",
    "    def on_epoch_begin(self, epoch, logs={}):\n",
    "        self.starttime = timer()\n",
    "    def on_epoch_end(self, epoch, logs={}):\n",
    "        self.logs.append(timer()-self.starttime)"
   ]
  },
  {
   "cell_type": "markdown",
   "metadata": {},
   "source": [
    "Dans le cadre de notre modèle, on utilisera deux callbacks : Un Early Stop et un Learning rate reducer."
   ]
  },
  {
   "cell_type": "code",
   "execution_count": 17,
   "metadata": {},
   "outputs": [],
   "source": [
    "early_stopping = EarlyStopping(\n",
    "                                patience=5, # Attendre 5 epochs avant application\n",
    "                                min_delta = 0.01, # si au bout de 5 epochs la fonction de perte ne varie pas de 1%, \n",
    "    # que ce soit à la hausse ou à la baisse, on arrête\n",
    "                                verbose=1, # Afficher à quel epoch on s'arrête\n",
    "                                mode = 'min',\n",
    "                                monitor='val_loss')\n",
    "\n",
    "reduce_learning_rate = ReduceLROnPlateau(\n",
    "                                    monitor=\"val_loss\",\n",
    "                                    patience=3, #si val_loss stagne sur 3 epochs consécutives selon la valeur min_delta\n",
    "                                    min_delta= 0.01,\n",
    "                                    factor=0.1,  # On réduit le learning rate d'un facteur 0.1\n",
    "                                    cooldown = 4, # On attend 4 epochs avant de réitérer \n",
    "                                    verbose=1)\n",
    "\n",
    "time_callback = TimingCallback()\n",
    "\n",
    "# This defined components of a CNN, but neither built a model,\n",
    "# nor required resources from the machine."
   ]
  },
  {
   "cell_type": "markdown",
   "metadata": {},
   "source": [
    "# Construction d'un CNN Classique\n",
    "\n",
    "* Couche de Convolution comportant les paramètres suivants :\n",
    "    * filters = 16: La couche sera composée de 16 matrices de convolution.\n",
    "    * kernel_size = (3, 3) : le noyau de convolution sera de dimension 3x3.\n",
    "    * activation = 'relu'.\n",
    "    * input_shape =  (100,100,3).\n",
    "    * On ajoutera les paramètres padding = 'valid' et kernel_regularizer=regularizers.l2(0.00001).\n",
    "\n",
    "* Couche de Max Pooling avec comme paramètres :\n",
    "    * pool_size = 2\n",
    "    * strides = 2\n",
    "    * padding = 'valid'\n",
    "\n",
    "* Couche de Dropout avec le paramètre rate = 0.5\n",
    "\n",
    "* Couche d'applatissement\n",
    "\n",
    "* Couche dense à 1 neurone. \n",
    "\n",
    "    * model.add(Dense(1, activation='sigmoid'))\n"
   ]
  },
  {
   "cell_type": "code",
   "execution_count": 18,
   "metadata": {},
   "outputs": [],
   "source": [
    "# Instanciation du modèle \n",
    "model = Sequential()\n",
    "\n",
    "model.add(Conv2D(filters=16,\n",
    "                  kernel_size=(3,3),\n",
    "                  activation=\"relu\",\n",
    "                  padding=\"valid\",\n",
    "                  input_shape=(28, 28, 1))\n",
    "            )\n",
    "\n",
    "model.add(MaxPooling2D(pool_size=2, strides=2, padding='valid'))\n",
    "\n",
    "model.add(Dropout(0.5))\n",
    "\n",
    "model.add(Flatten())\n",
    "\n",
    "model.add(Dense(Y_train.shape[1], activation='softmax'))"
   ]
  },
  {
   "cell_type": "code",
   "execution_count": 19,
   "metadata": {},
   "outputs": [
    {
     "name": "stdout",
     "output_type": "stream",
     "text": [
      "Model: \"sequential\"\n",
      "_________________________________________________________________\n",
      " Layer (type)                Output Shape              Param #   \n",
      "=================================================================\n",
      " conv2d (Conv2D)             (None, 26, 26, 16)        160       \n",
      "                                                                 \n",
      " max_pooling2d (MaxPooling2  (None, 13, 13, 16)        0         \n",
      " D)                                                              \n",
      "                                                                 \n",
      " dropout (Dropout)           (None, 13, 13, 16)        0         \n",
      "                                                                 \n",
      " flatten (Flatten)           (None, 2704)              0         \n",
      "                                                                 \n",
      " dense (Dense)               (None, 3)                 8115      \n",
      "                                                                 \n",
      "=================================================================\n",
      "Total params: 8275 (32.32 KB)\n",
      "Trainable params: 8275 (32.32 KB)\n",
      "Non-trainable params: 0 (0.00 Byte)\n",
      "_________________________________________________________________\n",
      "None\n"
     ]
    }
   ],
   "source": [
    "print(model.summary())"
   ]
  },
  {
   "cell_type": "markdown",
   "metadata": {},
   "source": [
    "# Entraînement du modèle\n"
   ]
  },
  {
   "cell_type": "code",
   "execution_count": 20,
   "metadata": {},
   "outputs": [],
   "source": [
    "#Compilation du modèle\n",
    "model.compile(optimizer=\"adam\",\n",
    "                loss=\"categorical_crossentropy\",\n",
    "                metrics=['acc'])"
   ]
  },
  {
   "cell_type": "code",
   "execution_count": 21,
   "metadata": {},
   "outputs": [
    {
     "name": "stdout",
     "output_type": "stream",
     "text": [
      "Epoch 1/20\n",
      "42/42 [==============================] - 1s 27ms/step - loss: 1.0423 - acc: 0.4638 - val_loss: 0.9333 - val_acc: 0.6007 - lr: 0.0010\n",
      "Epoch 2/20\n",
      "42/42 [==============================] - 1s 23ms/step - loss: 0.9111 - acc: 0.5800 - val_loss: 0.8705 - val_acc: 0.5896 - lr: 0.0010\n",
      "Epoch 3/20\n",
      "42/42 [==============================] - 1s 24ms/step - loss: 0.8685 - acc: 0.5979 - val_loss: 0.8364 - val_acc: 0.6200 - lr: 0.0010\n",
      "Epoch 4/20\n",
      "42/42 [==============================] - 1s 26ms/step - loss: 0.8449 - acc: 0.6121 - val_loss: 0.8119 - val_acc: 0.6356 - lr: 0.0010\n",
      "Epoch 5/20\n",
      "42/42 [==============================] - 1s 26ms/step - loss: 0.8236 - acc: 0.6248 - val_loss: 0.8061 - val_acc: 0.6311 - lr: 0.0010\n",
      "Epoch 6/20\n",
      "42/42 [==============================] - 1s 24ms/step - loss: 0.8175 - acc: 0.6246 - val_loss: 0.7799 - val_acc: 0.6585 - lr: 0.0010\n",
      "Epoch 7/20\n",
      "42/42 [==============================] - 1s 28ms/step - loss: 0.8029 - acc: 0.6373 - val_loss: 0.7806 - val_acc: 0.6467 - lr: 0.0010\n",
      "Epoch 8/20\n",
      "42/42 [==============================] - 1s 21ms/step - loss: 0.7966 - acc: 0.6442 - val_loss: 0.7676 - val_acc: 0.6607 - lr: 0.0010\n",
      "Epoch 9/20\n",
      "42/42 [==============================] - 1s 25ms/step - loss: 0.7882 - acc: 0.6451 - val_loss: 0.7880 - val_acc: 0.6393 - lr: 0.0010\n",
      "Epoch 10/20\n",
      "42/42 [==============================] - 1s 26ms/step - loss: 0.7741 - acc: 0.6536 - val_loss: 0.7489 - val_acc: 0.6763 - lr: 0.0010\n",
      "Epoch 11/20\n",
      "42/42 [==============================] - 1s 25ms/step - loss: 0.7664 - acc: 0.6553 - val_loss: 0.7315 - val_acc: 0.6785 - lr: 0.0010\n",
      "Epoch 12/20\n",
      "42/42 [==============================] - 1s 25ms/step - loss: 0.7606 - acc: 0.6629 - val_loss: 0.7459 - val_acc: 0.6756 - lr: 0.0010\n",
      "Epoch 13/20\n",
      "42/42 [==============================] - 1s 27ms/step - loss: 0.7554 - acc: 0.6626 - val_loss: 0.7465 - val_acc: 0.6793 - lr: 0.0010\n",
      "Epoch 14/20\n",
      "41/42 [============================>.] - ETA: 0s - loss: 0.7583 - acc: 0.6695\n",
      "Epoch 14: ReduceLROnPlateau reducing learning rate to 0.00010000000474974513.\n",
      "42/42 [==============================] - 1s 28ms/step - loss: 0.7584 - acc: 0.6696 - val_loss: 0.7274 - val_acc: 0.6896 - lr: 0.0010\n",
      "Epoch 15/20\n",
      "42/42 [==============================] - 1s 25ms/step - loss: 0.7367 - acc: 0.6756 - val_loss: 0.7225 - val_acc: 0.6896 - lr: 1.0000e-04\n",
      "Epoch 16/20\n",
      "42/42 [==============================] - 1s 24ms/step - loss: 0.7440 - acc: 0.6755 - val_loss: 0.7204 - val_acc: 0.6889 - lr: 1.0000e-04\n",
      "Epoch 17/20\n",
      "42/42 [==============================] - 1s 26ms/step - loss: 0.7460 - acc: 0.6730 - val_loss: 0.7192 - val_acc: 0.6911 - lr: 1.0000e-04\n",
      "Epoch 18/20\n",
      "42/42 [==============================] - 1s 27ms/step - loss: 0.7437 - acc: 0.6724 - val_loss: 0.7194 - val_acc: 0.6911 - lr: 1.0000e-04\n",
      "Epoch 19/20\n",
      "42/42 [==============================] - 1s 25ms/step - loss: 0.7384 - acc: 0.6700 - val_loss: 0.7177 - val_acc: 0.6874 - lr: 1.0000e-04\n",
      "Epoch 20/20\n",
      "40/42 [===========================>..] - ETA: 0s - loss: 0.7340 - acc: 0.6756\n",
      "Epoch 20: ReduceLROnPlateau reducing learning rate to 1.0000000474974514e-05.\n",
      "42/42 [==============================] - 1s 26ms/step - loss: 0.7336 - acc: 0.6749 - val_loss: 0.7186 - val_acc: 0.6926 - lr: 1.0000e-04\n",
      "Training : 22.31 sec \n",
      "\n",
      "\n"
     ]
    }
   ],
   "source": [
    "# Entrainement du modèle, utiliser le jeu de données augmenté, et préciser les callbacks.\n",
    "\n",
    "batch_size = 128\n",
    "epochs = 20\n",
    "\n",
    "start = time.time()\n",
    "model_history = model.fit(\n",
    "            train_dataset, # use augmented images for train \n",
    "            steps_per_epoch=X_train.shape[0] // batch_size,\n",
    "            validation_data = val_dataset, # use augmented images for test  \n",
    "            epochs = epochs,\n",
    "            callbacks = [\n",
    "                        reduce_learning_rate,\n",
    "                        early_stopping,\n",
    "                        time_callback\n",
    "                        ],\n",
    "            verbose=True)\n",
    "\n",
    "done = time.time()\n",
    "\n",
    "elapsed = done - start\n",
    "print(f'Training : {elapsed:.2f} sec \\n\\n')\n",
    "# 20 sec\n"
   ]
  },
  {
   "cell_type": "markdown",
   "metadata": {},
   "source": [
    "# Performances du modèle"
   ]
  },
  {
   "cell_type": "code",
   "execution_count": 22,
   "metadata": {},
   "outputs": [
    {
     "name": "stdout",
     "output_type": "stream",
     "text": [
      "<class 'list'>\n"
     ]
    }
   ],
   "source": [
    "val_acc = model_history.history['val_acc']\n",
    "\n",
    "print(type(val_acc))\n"
   ]
  },
  {
   "cell_type": "code",
   "execution_count": 23,
   "metadata": {},
   "outputs": [
    {
     "data": {
      "text/plain": [
       "Text(0, 0.5, 'Accuracy on validation set.')"
      ]
     },
     "execution_count": 23,
     "metadata": {},
     "output_type": "execute_result"
    },
    {
     "data": {
      "image/png": "[encoded data removed]",
      "text/plain": [
       "<Figure size 640x480 with 1 Axes>"
      ]
     },
     "metadata": {},
     "output_type": "display_data"
    }
   ],
   "source": [
    "# (g) Tracer l'évolution des précisions tout au long de l'entraînement.\n",
    "plt.plot(range(1, len(val_acc) + 1), val_acc)\n",
    "\n",
    "plt.xlabel(\"Epoch\")\n",
    "plt.ylabel(\"Accuracy on validation set.\")"
   ]
  },
  {
   "cell_type": "markdown",
   "metadata": {},
   "source": [
    "Prédictions sur l'ensemble test."
   ]
  },
  {
   "cell_type": "code",
   "execution_count": 24,
   "metadata": {},
   "outputs": [
    {
     "name": "stdout",
     "output_type": "stream",
     "text": [
      "43/43 [==============================] - 0s 733us/step\n",
      "Prediction : 0.13 sec \n",
      "\n",
      "\n",
      "<class 'numpy.ndarray'>\n",
      "(1350, 3)\n",
      "[[0.6303122  0.06186504 0.3078227 ]\n",
      " [0.05591831 0.8328798  0.11120188]\n",
      " [0.74010724 0.2081578  0.05173491]]\n"
     ]
    }
   ],
   "source": [
    "# (i)\n",
    "start = time.time()\n",
    "val_pred = model.predict(X_val)\n",
    "done = time.time()\n",
    "\n",
    "elapsed = done - start\n",
    "print(f'Prediction : {elapsed:.2f} sec \\n\\n')\n",
    "# 0.2 sec\n",
    "\n",
    "print(type(val_pred))  # ndarray\n",
    "print(val_pred.shape)  # (2170, 1)\n",
    "\n",
    "print(val_pred[:3, :])  # The first predictions: 1, 1, 1. \n",
    "# They are correct, although the model is only certain about the second one."
   ]
  },
  {
   "cell_type": "code",
   "execution_count": 25,
   "metadata": {},
   "outputs": [
    {
     "name": "stdout",
     "output_type": "stream",
     "text": [
      "[0 1 0 0 1 0 1 0 1 2]\n"
     ]
    }
   ],
   "source": [
    "# (k)\n",
    "def pred_mat2class(pred_matrix):\n",
    "    return pred_matrix.argmax(axis=1)\n",
    "\n",
    "\n",
    "y_val_class = pred_mat2class(Y_val)\n",
    "val_pred_class = pred_mat2class(val_pred)\n",
    "\n",
    "\n",
    "print(val_pred_class[:10])  #[0 1 0 1 1 0 1 0 1 2]"
   ]
  },
  {
   "cell_type": "code",
   "execution_count": 26,
   "metadata": {},
   "outputs": [
    {
     "name": "stdout",
     "output_type": "stream",
     "text": [
      "[0 1 1 0 1 0 1 0 1 2]\n"
     ]
    }
   ],
   "source": [
    "print(y_val_class[:10])  # [0 1 1 0 1 0 1 0 1 2]\n",
    "# The model made 2 mistakes in the first 10 images, which would be quite correct if this was generalized\n",
    "# to the other images."
   ]
  },
  {
   "cell_type": "code",
   "execution_count": 27,
   "metadata": {},
   "outputs": [
    {
     "name": "stdout",
     "output_type": "stream",
     "text": [
      "Accuracy on validation set: 0.6925925925925925\n"
     ]
    }
   ],
   "source": [
    "# score\n",
    "print(\"Accuracy on validation set:\", metrics.accuracy_score(y_val_class, val_pred_class))\n",
    "# 0.665"
   ]
  },
  {
   "cell_type": "code",
   "execution_count": 28,
   "metadata": {},
   "outputs": [
    {
     "name": "stdout",
     "output_type": "stream",
     "text": [
      "169/169 [==============================] - 0s 964us/step\n",
      "Prediction : 0.29 sec \n",
      "\n",
      "\n",
      "Accuracy on train set: 0.707037037037037\n"
     ]
    }
   ],
   "source": [
    "# score on training set.\n",
    "start = time.time()\n",
    "train_pred = model.predict(X_train)\n",
    "done = time.time()\n",
    "\n",
    "elapsed = done - start\n",
    "print(f'Prediction : {elapsed:.2f} sec \\n\\n')\n",
    "\n",
    "y_train_class = pred_mat2class(Y_train)\n",
    "train_pred_class = pred_mat2class(train_pred)\n",
    "\n",
    "print(\"Accuracy on train set:\", metrics.accuracy_score(y_train_class, train_pred_class))\n",
    "# 0.68\n",
    "# The model does not overfit."
   ]
  },
  {
   "cell_type": "code",
   "execution_count": 29,
   "metadata": {},
   "outputs": [
    {
     "name": "stdout",
     "output_type": "stream",
     "text": [
      "              precision    recall  f1-score   support\n",
      "\n",
      "           0       0.66      0.73      0.69       462\n",
      "           1       0.74      0.78      0.76       434\n",
      "           2       0.69      0.57      0.62       454\n",
      "\n",
      "    accuracy                           0.69      1350\n",
      "   macro avg       0.69      0.69      0.69      1350\n",
      "weighted avg       0.69      0.69      0.69      1350\n",
      "\n"
     ]
    }
   ],
   "source": [
    "print(metrics.classification_report(y_val_class, val_pred_class))\n",
    "# 0.67, 0.74, 0.58"
   ]
  },
  {
   "cell_type": "code",
   "execution_count": 30,
   "metadata": {},
   "outputs": [
    {
     "data": {
      "text/html": [
       "<div>\n",
       "<style scoped>\n",
       "    .dataframe tbody tr th:only-of-type {\n",
       "        vertical-align: middle;\n",
       "    }\n",
       "\n",
       "    .dataframe tbody tr th {\n",
       "        vertical-align: top;\n",
       "    }\n",
       "\n",
       "    .dataframe thead th {\n",
       "        text-align: right;\n",
       "    }\n",
       "</style>\n",
       "<table border=\"1\" class=\"dataframe\">\n",
       "  <thead>\n",
       "    <tr style=\"text-align: right;\">\n",
       "      <th>col_0</th>\n",
       "      <th>0</th>\n",
       "      <th>1</th>\n",
       "      <th>2</th>\n",
       "    </tr>\n",
       "    <tr>\n",
       "      <th>row_0</th>\n",
       "      <th></th>\n",
       "      <th></th>\n",
       "      <th></th>\n",
       "    </tr>\n",
       "  </thead>\n",
       "  <tbody>\n",
       "    <tr>\n",
       "      <th>0</th>\n",
       "      <td>338</td>\n",
       "      <td>51</td>\n",
       "      <td>73</td>\n",
       "    </tr>\n",
       "    <tr>\n",
       "      <th>1</th>\n",
       "      <td>52</td>\n",
       "      <td>338</td>\n",
       "      <td>44</td>\n",
       "    </tr>\n",
       "    <tr>\n",
       "      <th>2</th>\n",
       "      <td>125</td>\n",
       "      <td>70</td>\n",
       "      <td>259</td>\n",
       "    </tr>\n",
       "  </tbody>\n",
       "</table>\n",
       "</div>"
      ],
      "text/plain": [
       "col_0    0    1    2\n",
       "row_0               \n",
       "0      338   51   73\n",
       "1       52  338   44\n",
       "2      125   70  259"
      ]
     },
     "execution_count": 30,
     "metadata": {},
     "output_type": "execute_result"
    }
   ],
   "source": [
    "# confusion matrix\n",
    "# cm = metrics.confusion_matrix(y_val_class, val_pred_class)\n",
    "# print(cm)\n",
    "\n",
    "pd.crosstab(y_val_class, val_pred_class)"
   ]
  },
  {
   "cell_type": "markdown",
   "metadata": {},
   "source": [
    "Images aléatoires du jeu de validation avec les vraies classes et les prédictions."
   ]
  },
  {
   "cell_type": "code",
   "execution_count": 31,
   "metadata": {},
   "outputs": [
    {
     "data": {
      "text/plain": [
       "(<Figure size 1600x500 with 10 Axes>,\n",
       " array([<Axes: title={'center': 'True 0\\nPredicted: 0'}>,\n",
       "        <Axes: title={'center': 'True 2\\nPredicted: 2'}>,\n",
       "        <Axes: title={'center': 'True 1\\nPredicted: 1'}>,\n",
       "        <Axes: title={'center': 'True 2\\nPredicted: 1'}>,\n",
       "        <Axes: title={'center': 'True 2\\nPredicted: 1'}>,\n",
       "        <Axes: title={'center': 'True 1\\nPredicted: 0'}>,\n",
       "        <Axes: title={'center': 'True 1\\nPredicted: 1'}>,\n",
       "        <Axes: title={'center': 'True 1\\nPredicted: 1'}>,\n",
       "        <Axes: title={'center': 'True 2\\nPredicted: 2'}>,\n",
       "        <Axes: title={'center': 'True 0\\nPredicted: 0'}>], dtype=object),\n",
       " array([ 610, 1100, 1011,  723, 1063,   36,  444,  167, 1161, 1126]))"
      ]
     },
     "execution_count": 31,
     "metadata": {},
     "output_type": "execute_result"
    },
    {
     "data": {
      "image/png": "[encoded data removed]",
      "text/plain": [
       "<Figure size 1600x500 with 10 Axes>"
      ]
     },
     "metadata": {},
     "output_type": "display_data"
    }
   ],
   "source": [
    "n_plots = 10\n",
    "\n",
    "def tuple_str_true_pred(true:int, pred:int):\n",
    "#    return \"True \" + str(tup[0]) + '\\n' + \"Predicted: \" + str(tup[1])\n",
    "    return \"True \" + str(true) + '\\n' + \"Predicted: \" + str(pred)\n",
    "\n",
    "\n",
    "lst_str_pred = list(map(tuple_str_true_pred, y_val_class, val_pred_class))\n",
    "subplots_random_images(X_val, lst_str_pred, n_plots, rng)\n"
   ]
  }
 ],
 "metadata": {
  "kernelspec": {
   "display_name": "DSTest_proj_env04",
   "language": "python",
   "name": "python3"
  },
  "language_info": {
   "codemirror_mode": {
    "name": "ipython",
    "version": 3
   },
   "file_extension": ".py",
   "mimetype": "text/x-python",
   "name": "python",
   "nbconvert_exporter": "python",
   "pygments_lexer": "ipython3",
   "version": "3.9.7"
  }
 },
 "nbformat": 4,
 "nbformat_minor": 2
}
