{
 "cells": [
  {
   "cell_type": "markdown",
   "metadata": {},
   "source": [
    "Vérifier les tailles des images CT.\n",
    "\n",
    "_Résultat_.\n",
    "Comme prévu, les images COVID sont de même  taille: 299 x 299.\n",
    "Mais parmi celles de la pneumonie, certaines sont en noir-et-blanc, \n",
    "tandis que d'autres sont \"en couleur\" (tenseurs 3d).\n",
    "\n",
    "_Conséquence_.\n",
    "Il faudra vérifier si les images \"en couleur\" ont des canaux couleur différents, et si les 3 canaux sont identiques, garder un seul.\n"
   ]
  },
  {
   "cell_type": "code",
   "execution_count": 1,
   "metadata": {},
   "outputs": [],
   "source": [
    "import os\n",
    "import matplotlib.image as mpimg\n",
    "import numpy as np\n",
    "import time\n",
    "import pandas as pd\n",
    "\n",
    "from functools import partial"
   ]
  },
  {
   "cell_type": "code",
   "execution_count": 2,
   "metadata": {},
   "outputs": [],
   "source": [
    "DIM_NAMES = ['Height', 'Width']"
   ]
  },
  {
   "cell_type": "code",
   "execution_count": 3,
   "metadata": {},
   "outputs": [],
   "source": [
    "def path2DF_sizes(path_folder):\n",
    "    file_names = os.listdir(path=path_folder)\n",
    "    paths_images = map(partial(os.path.join, path_folder), file_names)\n",
    "    list_images = map(mpimg.imread, paths_images)\n",
    "\n",
    "    list_shapes = list(map(lambda mat: mat.shape, list_images ))\n",
    "    \n",
    "    mat_shapes = np.vstack(list_shapes)\n",
    "    df_shapes = pd.DataFrame(data=mat_shapes, columns=DIM_NAMES)\n",
    "    return df_shapes\n"
   ]
  },
  {
   "cell_type": "markdown",
   "metadata": {},
   "source": [
    "Tailles des images COVID."
   ]
  },
  {
   "cell_type": "code",
   "execution_count": 4,
   "metadata": {},
   "outputs": [],
   "source": [
    "condition_2plot_COV = \"COVID\"\n",
    "path_dir_images = os.path.join(\"../data\", condition_2plot_COV, \"images\")"
   ]
  },
  {
   "cell_type": "code",
   "execution_count": 5,
   "metadata": {},
   "outputs": [
    {
     "name": "stdout",
     "output_type": "stream",
     "text": [
      "time = 4.75 sec \n",
      "\n",
      "\n",
      "(3616, 2)\n"
     ]
    },
    {
     "data": {
      "text/html": [
       "<div>\n",
       "<style scoped>\n",
       "    .dataframe tbody tr th:only-of-type {\n",
       "        vertical-align: middle;\n",
       "    }\n",
       "\n",
       "    .dataframe tbody tr th {\n",
       "        vertical-align: top;\n",
       "    }\n",
       "\n",
       "    .dataframe thead th {\n",
       "        text-align: right;\n",
       "    }\n",
       "</style>\n",
       "<table border=\"1\" class=\"dataframe\">\n",
       "  <thead>\n",
       "    <tr style=\"text-align: right;\">\n",
       "      <th></th>\n",
       "      <th>Height</th>\n",
       "      <th>Width</th>\n",
       "    </tr>\n",
       "  </thead>\n",
       "  <tbody>\n",
       "    <tr>\n",
       "      <th>0</th>\n",
       "      <td>299</td>\n",
       "      <td>299</td>\n",
       "    </tr>\n",
       "    <tr>\n",
       "      <th>1</th>\n",
       "      <td>299</td>\n",
       "      <td>299</td>\n",
       "    </tr>\n",
       "    <tr>\n",
       "      <th>2</th>\n",
       "      <td>299</td>\n",
       "      <td>299</td>\n",
       "    </tr>\n",
       "    <tr>\n",
       "      <th>3</th>\n",
       "      <td>299</td>\n",
       "      <td>299</td>\n",
       "    </tr>\n",
       "    <tr>\n",
       "      <th>4</th>\n",
       "      <td>299</td>\n",
       "      <td>299</td>\n",
       "    </tr>\n",
       "  </tbody>\n",
       "</table>\n",
       "</div>"
      ],
      "text/plain": [
       "   Height  Width\n",
       "0     299    299\n",
       "1     299    299\n",
       "2     299    299\n",
       "3     299    299\n",
       "4     299    299"
      ]
     },
     "execution_count": 5,
     "metadata": {},
     "output_type": "execute_result"
    }
   ],
   "source": [
    "start = time.time()\n",
    "df_sizes_COV = path2DF_sizes(path_dir_images)\n",
    "done = time.time()\n",
    "\n",
    "elapsed = done - start\n",
    "print(f'time = {elapsed:.2f} sec \\n\\n')  # 4.2 sec\n",
    "\n",
    "print(df_sizes_COV.shape)  # (3616, 2)\n",
    "df_sizes_COV.head()\n"
   ]
  },
  {
   "cell_type": "code",
   "execution_count": 6,
   "metadata": {},
   "outputs": [
    {
     "name": "stdout",
     "output_type": "stream",
     "text": [
      "Height:\n",
      "299    3616\n",
      "Name: Height, dtype: int64\n",
      "------\n",
      "Width:\n",
      "299    3616\n",
      "Name: Width, dtype: int64\n"
     ]
    }
   ],
   "source": [
    "print('Height:')\n",
    "print(df_sizes_COV[DIM_NAMES[0]].value_counts())\n",
    "# 299   3616\n",
    "print('------')\n",
    "print('Width:')\n",
    "print(df_sizes_COV[DIM_NAMES[1]].value_counts())\n",
    "# 299   3616\n"
   ]
  },
  {
   "cell_type": "markdown",
   "metadata": {},
   "source": [
    "Tailles des images Pneumonie."
   ]
  },
  {
   "cell_type": "code",
   "execution_count": 7,
   "metadata": {},
   "outputs": [],
   "source": [
    "condition_2plot_pneumo = \"Viral Pneumonia\"\n",
    "path_dir_images_pneumo = os.path.join(\"../data\", condition_2plot_pneumo, \"images\")"
   ]
  },
  {
   "cell_type": "code",
   "execution_count": 8,
   "metadata": {},
   "outputs": [
    {
     "ename": "ValueError",
     "evalue": "all the input array dimensions for the concatenation axis must match exactly, but along dimension 1, the array at index 0 has size 2 and the array at index 1 has size 3",
     "output_type": "error",
     "traceback": [
      "\u001b[0;31m---------------------------------------------------------------------------\u001b[0m",
      "\u001b[0;31mValueError\u001b[0m                                Traceback (most recent call last)",
      "Cell \u001b[0;32mIn[8], line 2\u001b[0m\n\u001b[1;32m      1\u001b[0m start \u001b[38;5;241m=\u001b[39m time\u001b[38;5;241m.\u001b[39mtime()\n\u001b[0;32m----> 2\u001b[0m df_sizes_pneumo \u001b[38;5;241m=\u001b[39m \u001b[43mpath2DF_sizes\u001b[49m\u001b[43m(\u001b[49m\u001b[43mpath_dir_images_pneumo\u001b[49m\u001b[43m)\u001b[49m\n\u001b[1;32m      3\u001b[0m \u001b[38;5;66;03m# ValueError: all the input array dimensions for the concatenation axis must match exactly,\u001b[39;00m\n\u001b[1;32m      4\u001b[0m \u001b[38;5;66;03m# but along dimension 1, the array at index 0 has size 2\u001b[39;00m\n\u001b[1;32m      5\u001b[0m \u001b[38;5;66;03m# and the array at index 1 has size 3\u001b[39;00m\n\u001b[1;32m      7\u001b[0m done \u001b[38;5;241m=\u001b[39m time\u001b[38;5;241m.\u001b[39mtime()\n",
      "Cell \u001b[0;32mIn[3], line 8\u001b[0m, in \u001b[0;36mpath2DF_sizes\u001b[0;34m(path_folder)\u001b[0m\n\u001b[1;32m      4\u001b[0m list_images \u001b[38;5;241m=\u001b[39m \u001b[38;5;28mmap\u001b[39m(mpimg\u001b[38;5;241m.\u001b[39mimread, paths_images)\n\u001b[1;32m      6\u001b[0m list_shapes \u001b[38;5;241m=\u001b[39m \u001b[38;5;28mlist\u001b[39m(\u001b[38;5;28mmap\u001b[39m(\u001b[38;5;28;01mlambda\u001b[39;00m mat: mat\u001b[38;5;241m.\u001b[39mshape, list_images ))\n\u001b[0;32m----> 8\u001b[0m mat_shapes \u001b[38;5;241m=\u001b[39m \u001b[43mnp\u001b[49m\u001b[38;5;241;43m.\u001b[39;49m\u001b[43mvstack\u001b[49m\u001b[43m(\u001b[49m\u001b[43mlist_shapes\u001b[49m\u001b[43m)\u001b[49m\n\u001b[1;32m      9\u001b[0m df_shapes \u001b[38;5;241m=\u001b[39m pd\u001b[38;5;241m.\u001b[39mDataFrame(data\u001b[38;5;241m=\u001b[39mmat_shapes, columns\u001b[38;5;241m=\u001b[39mDIM_NAMES)\n\u001b[1;32m     10\u001b[0m \u001b[38;5;28;01mreturn\u001b[39;00m df_shapes\n",
      "File \u001b[0;32m<__array_function__ internals>:180\u001b[0m, in \u001b[0;36mvstack\u001b[0;34m(*args, **kwargs)\u001b[0m\n",
      "File \u001b[0;32m~/Apprentissage/DataScientest/DS_2024/final_project/env02/lib/python3.9/site-packages/numpy/core/shape_base.py:282\u001b[0m, in \u001b[0;36mvstack\u001b[0;34m(tup)\u001b[0m\n\u001b[1;32m    280\u001b[0m \u001b[38;5;28;01mif\u001b[39;00m \u001b[38;5;129;01mnot\u001b[39;00m \u001b[38;5;28misinstance\u001b[39m(arrs, \u001b[38;5;28mlist\u001b[39m):\n\u001b[1;32m    281\u001b[0m     arrs \u001b[38;5;241m=\u001b[39m [arrs]\n\u001b[0;32m--> 282\u001b[0m \u001b[38;5;28;01mreturn\u001b[39;00m \u001b[43m_nx\u001b[49m\u001b[38;5;241;43m.\u001b[39;49m\u001b[43mconcatenate\u001b[49m\u001b[43m(\u001b[49m\u001b[43marrs\u001b[49m\u001b[43m,\u001b[49m\u001b[43m \u001b[49m\u001b[38;5;241;43m0\u001b[39;49m\u001b[43m)\u001b[49m\n",
      "File \u001b[0;32m<__array_function__ internals>:180\u001b[0m, in \u001b[0;36mconcatenate\u001b[0;34m(*args, **kwargs)\u001b[0m\n",
      "\u001b[0;31mValueError\u001b[0m: all the input array dimensions for the concatenation axis must match exactly, but along dimension 1, the array at index 0 has size 2 and the array at index 1 has size 3"
     ]
    }
   ],
   "source": [
    "start = time.time()\n",
    "df_sizes_pneumo = path2DF_sizes(path_dir_images_pneumo)\n",
    "# ValueError: all the input array dimensions for the concatenation axis must match exactly,\n",
    "# but along dimension 1, the array at index 0 has size 2\n",
    "# and the array at index 1 has size 3\n",
    "\n",
    "done = time.time()\n",
    "\n",
    "elapsed = done - start\n",
    "print(f'time = {elapsed:.2f} sec \\n\\n')\n",
    "\n",
    "print(df_sizes_pneumo.shape)\n",
    "df_sizes_pneumo.head()\n"
   ]
  }
 ],
 "metadata": {
  "kernelspec": {
   "display_name": "Python 3",
   "language": "python",
   "name": "python3"
  },
  "language_info": {
   "codemirror_mode": {
    "name": "ipython",
    "version": 3
   },
   "file_extension": ".py",
   "mimetype": "text/x-python",
   "name": "python",
   "nbconvert_exporter": "python",
   "pygments_lexer": "ipython3",
   "version": "3.9.undefined"
  }
 },
 "nbformat": 4,
 "nbformat_minor": 2
}
